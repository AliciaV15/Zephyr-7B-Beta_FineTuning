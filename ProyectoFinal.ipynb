{
  "nbformat": 4,
  "nbformat_minor": 0,
  "metadata": {
    "colab": {
      "provenance": [],
      "gpuType": "T4",
      "authorship_tag": "ABX9TyNmoVMTTATIruNL/PP9/Ck+",
      "include_colab_link": true
    },
    "kernelspec": {
      "name": "python3",
      "display_name": "Python 3"
    },
    "language_info": {
      "name": "python"
    },
    "accelerator": "GPU",
    "widgets": {
      "application/vnd.jupyter.widget-state+json": {
        "5f6746408db643faba771a4103375ee9": {
          "model_module": "@jupyter-widgets/controls",
          "model_name": "VBoxModel",
          "model_module_version": "1.5.0",
          "state": {
            "_dom_classes": [],
            "_model_module": "@jupyter-widgets/controls",
            "_model_module_version": "1.5.0",
            "_model_name": "VBoxModel",
            "_view_count": null,
            "_view_module": "@jupyter-widgets/controls",
            "_view_module_version": "1.5.0",
            "_view_name": "VBoxView",
            "box_style": "",
            "children": [
              "IPY_MODEL_aab6810a72cb46e4b7ebdc7084ab3e89",
              "IPY_MODEL_ddaf24a95566477ca4f12b412b764067",
              "IPY_MODEL_b9bd38e12ded4c3b8fd9d5a7c5464e65",
              "IPY_MODEL_7b0b8e8dda894319bb1de8568dcc6c63"
            ],
            "layout": "IPY_MODEL_c1a0c7eb71c34324ab5f0555743dc5d1"
          }
        },
        "432f42e4a7e34d2bafbcf89e258e944a": {
          "model_module": "@jupyter-widgets/controls",
          "model_name": "HTMLModel",
          "model_module_version": "1.5.0",
          "state": {
            "_dom_classes": [],
            "_model_module": "@jupyter-widgets/controls",
            "_model_module_version": "1.5.0",
            "_model_name": "HTMLModel",
            "_view_count": null,
            "_view_module": "@jupyter-widgets/controls",
            "_view_module_version": "1.5.0",
            "_view_name": "HTMLView",
            "description": "",
            "description_tooltip": null,
            "layout": "IPY_MODEL_1b4495f7eb54495db2d10caac408b9d0",
            "placeholder": "​",
            "style": "IPY_MODEL_60502b6dda7f41029f829d13bcc0cf40",
            "value": "<center> <img\nsrc=https://huggingface.co/front/assets/huggingface_logo-noborder.svg\nalt='Hugging Face'> <br> Copy a token from <a\nhref=\"https://huggingface.co/settings/tokens\" target=\"_blank\">your Hugging Face\ntokens page</a> and paste it below. <br> Immediately click login after copying\nyour token or it might be stored in plain text in this notebook file. </center>"
          }
        },
        "1d5562d2ce044976af3459f6346808da": {
          "model_module": "@jupyter-widgets/controls",
          "model_name": "PasswordModel",
          "model_module_version": "1.5.0",
          "state": {
            "_dom_classes": [],
            "_model_module": "@jupyter-widgets/controls",
            "_model_module_version": "1.5.0",
            "_model_name": "PasswordModel",
            "_view_count": null,
            "_view_module": "@jupyter-widgets/controls",
            "_view_module_version": "1.5.0",
            "_view_name": "PasswordView",
            "continuous_update": true,
            "description": "Token:",
            "description_tooltip": null,
            "disabled": false,
            "layout": "IPY_MODEL_98beb8832b18400cb25a8c0506c8e37d",
            "placeholder": "​",
            "style": "IPY_MODEL_60a8ebcd13ea42febaca5abe7c20cabd",
            "value": ""
          }
        },
        "1b1559f7ca3e4b34b18469b0c92efe60": {
          "model_module": "@jupyter-widgets/controls",
          "model_name": "CheckboxModel",
          "model_module_version": "1.5.0",
          "state": {
            "_dom_classes": [],
            "_model_module": "@jupyter-widgets/controls",
            "_model_module_version": "1.5.0",
            "_model_name": "CheckboxModel",
            "_view_count": null,
            "_view_module": "@jupyter-widgets/controls",
            "_view_module_version": "1.5.0",
            "_view_name": "CheckboxView",
            "description": "Add token as git credential?",
            "description_tooltip": null,
            "disabled": false,
            "indent": true,
            "layout": "IPY_MODEL_d343d85afb5b44e4ab565f441661911d",
            "style": "IPY_MODEL_5e230ad1d25c4d37a0958541050fade6",
            "value": true
          }
        },
        "00e70a6dbffe4af8b1a11962923a8532": {
          "model_module": "@jupyter-widgets/controls",
          "model_name": "ButtonModel",
          "model_module_version": "1.5.0",
          "state": {
            "_dom_classes": [],
            "_model_module": "@jupyter-widgets/controls",
            "_model_module_version": "1.5.0",
            "_model_name": "ButtonModel",
            "_view_count": null,
            "_view_module": "@jupyter-widgets/controls",
            "_view_module_version": "1.5.0",
            "_view_name": "ButtonView",
            "button_style": "",
            "description": "Login",
            "disabled": false,
            "icon": "",
            "layout": "IPY_MODEL_c1d7db8595a94dd8a36f334e8f9c9a5c",
            "style": "IPY_MODEL_9ce1544a87c84836be95ae12c31aceef",
            "tooltip": ""
          }
        },
        "98e3a27baf7e460a9ab58a09e4930449": {
          "model_module": "@jupyter-widgets/controls",
          "model_name": "HTMLModel",
          "model_module_version": "1.5.0",
          "state": {
            "_dom_classes": [],
            "_model_module": "@jupyter-widgets/controls",
            "_model_module_version": "1.5.0",
            "_model_name": "HTMLModel",
            "_view_count": null,
            "_view_module": "@jupyter-widgets/controls",
            "_view_module_version": "1.5.0",
            "_view_name": "HTMLView",
            "description": "",
            "description_tooltip": null,
            "layout": "IPY_MODEL_3dfd6f34949e4662a13d8f2abd438325",
            "placeholder": "​",
            "style": "IPY_MODEL_81c0bcc0709c4e93a12dc61f77522cae",
            "value": "\n<b>Pro Tip:</b> If you don't already have one, you can create a dedicated\n'notebooks' token with 'write' access, that you can then easily reuse for all\nnotebooks. </center>"
          }
        },
        "c1a0c7eb71c34324ab5f0555743dc5d1": {
          "model_module": "@jupyter-widgets/base",
          "model_name": "LayoutModel",
          "model_module_version": "1.2.0",
          "state": {
            "_model_module": "@jupyter-widgets/base",
            "_model_module_version": "1.2.0",
            "_model_name": "LayoutModel",
            "_view_count": null,
            "_view_module": "@jupyter-widgets/base",
            "_view_module_version": "1.2.0",
            "_view_name": "LayoutView",
            "align_content": null,
            "align_items": "center",
            "align_self": null,
            "border": null,
            "bottom": null,
            "display": "flex",
            "flex": null,
            "flex_flow": "column",
            "grid_area": null,
            "grid_auto_columns": null,
            "grid_auto_flow": null,
            "grid_auto_rows": null,
            "grid_column": null,
            "grid_gap": null,
            "grid_row": null,
            "grid_template_areas": null,
            "grid_template_columns": null,
            "grid_template_rows": null,
            "height": null,
            "justify_content": null,
            "justify_items": null,
            "left": null,
            "margin": null,
            "max_height": null,
            "max_width": null,
            "min_height": null,
            "min_width": null,
            "object_fit": null,
            "object_position": null,
            "order": null,
            "overflow": null,
            "overflow_x": null,
            "overflow_y": null,
            "padding": null,
            "right": null,
            "top": null,
            "visibility": null,
            "width": "50%"
          }
        },
        "1b4495f7eb54495db2d10caac408b9d0": {
          "model_module": "@jupyter-widgets/base",
          "model_name": "LayoutModel",
          "model_module_version": "1.2.0",
          "state": {
            "_model_module": "@jupyter-widgets/base",
            "_model_module_version": "1.2.0",
            "_model_name": "LayoutModel",
            "_view_count": null,
            "_view_module": "@jupyter-widgets/base",
            "_view_module_version": "1.2.0",
            "_view_name": "LayoutView",
            "align_content": null,
            "align_items": null,
            "align_self": null,
            "border": null,
            "bottom": null,
            "display": null,
            "flex": null,
            "flex_flow": null,
            "grid_area": null,
            "grid_auto_columns": null,
            "grid_auto_flow": null,
            "grid_auto_rows": null,
            "grid_column": null,
            "grid_gap": null,
            "grid_row": null,
            "grid_template_areas": null,
            "grid_template_columns": null,
            "grid_template_rows": null,
            "height": null,
            "justify_content": null,
            "justify_items": null,
            "left": null,
            "margin": null,
            "max_height": null,
            "max_width": null,
            "min_height": null,
            "min_width": null,
            "object_fit": null,
            "object_position": null,
            "order": null,
            "overflow": null,
            "overflow_x": null,
            "overflow_y": null,
            "padding": null,
            "right": null,
            "top": null,
            "visibility": null,
            "width": null
          }
        },
        "60502b6dda7f41029f829d13bcc0cf40": {
          "model_module": "@jupyter-widgets/controls",
          "model_name": "DescriptionStyleModel",
          "model_module_version": "1.5.0",
          "state": {
            "_model_module": "@jupyter-widgets/controls",
            "_model_module_version": "1.5.0",
            "_model_name": "DescriptionStyleModel",
            "_view_count": null,
            "_view_module": "@jupyter-widgets/base",
            "_view_module_version": "1.2.0",
            "_view_name": "StyleView",
            "description_width": ""
          }
        },
        "98beb8832b18400cb25a8c0506c8e37d": {
          "model_module": "@jupyter-widgets/base",
          "model_name": "LayoutModel",
          "model_module_version": "1.2.0",
          "state": {
            "_model_module": "@jupyter-widgets/base",
            "_model_module_version": "1.2.0",
            "_model_name": "LayoutModel",
            "_view_count": null,
            "_view_module": "@jupyter-widgets/base",
            "_view_module_version": "1.2.0",
            "_view_name": "LayoutView",
            "align_content": null,
            "align_items": null,
            "align_self": null,
            "border": null,
            "bottom": null,
            "display": null,
            "flex": null,
            "flex_flow": null,
            "grid_area": null,
            "grid_auto_columns": null,
            "grid_auto_flow": null,
            "grid_auto_rows": null,
            "grid_column": null,
            "grid_gap": null,
            "grid_row": null,
            "grid_template_areas": null,
            "grid_template_columns": null,
            "grid_template_rows": null,
            "height": null,
            "justify_content": null,
            "justify_items": null,
            "left": null,
            "margin": null,
            "max_height": null,
            "max_width": null,
            "min_height": null,
            "min_width": null,
            "object_fit": null,
            "object_position": null,
            "order": null,
            "overflow": null,
            "overflow_x": null,
            "overflow_y": null,
            "padding": null,
            "right": null,
            "top": null,
            "visibility": null,
            "width": null
          }
        },
        "60a8ebcd13ea42febaca5abe7c20cabd": {
          "model_module": "@jupyter-widgets/controls",
          "model_name": "DescriptionStyleModel",
          "model_module_version": "1.5.0",
          "state": {
            "_model_module": "@jupyter-widgets/controls",
            "_model_module_version": "1.5.0",
            "_model_name": "DescriptionStyleModel",
            "_view_count": null,
            "_view_module": "@jupyter-widgets/base",
            "_view_module_version": "1.2.0",
            "_view_name": "StyleView",
            "description_width": ""
          }
        },
        "d343d85afb5b44e4ab565f441661911d": {
          "model_module": "@jupyter-widgets/base",
          "model_name": "LayoutModel",
          "model_module_version": "1.2.0",
          "state": {
            "_model_module": "@jupyter-widgets/base",
            "_model_module_version": "1.2.0",
            "_model_name": "LayoutModel",
            "_view_count": null,
            "_view_module": "@jupyter-widgets/base",
            "_view_module_version": "1.2.0",
            "_view_name": "LayoutView",
            "align_content": null,
            "align_items": null,
            "align_self": null,
            "border": null,
            "bottom": null,
            "display": null,
            "flex": null,
            "flex_flow": null,
            "grid_area": null,
            "grid_auto_columns": null,
            "grid_auto_flow": null,
            "grid_auto_rows": null,
            "grid_column": null,
            "grid_gap": null,
            "grid_row": null,
            "grid_template_areas": null,
            "grid_template_columns": null,
            "grid_template_rows": null,
            "height": null,
            "justify_content": null,
            "justify_items": null,
            "left": null,
            "margin": null,
            "max_height": null,
            "max_width": null,
            "min_height": null,
            "min_width": null,
            "object_fit": null,
            "object_position": null,
            "order": null,
            "overflow": null,
            "overflow_x": null,
            "overflow_y": null,
            "padding": null,
            "right": null,
            "top": null,
            "visibility": null,
            "width": null
          }
        },
        "5e230ad1d25c4d37a0958541050fade6": {
          "model_module": "@jupyter-widgets/controls",
          "model_name": "DescriptionStyleModel",
          "model_module_version": "1.5.0",
          "state": {
            "_model_module": "@jupyter-widgets/controls",
            "_model_module_version": "1.5.0",
            "_model_name": "DescriptionStyleModel",
            "_view_count": null,
            "_view_module": "@jupyter-widgets/base",
            "_view_module_version": "1.2.0",
            "_view_name": "StyleView",
            "description_width": ""
          }
        },
        "c1d7db8595a94dd8a36f334e8f9c9a5c": {
          "model_module": "@jupyter-widgets/base",
          "model_name": "LayoutModel",
          "model_module_version": "1.2.0",
          "state": {
            "_model_module": "@jupyter-widgets/base",
            "_model_module_version": "1.2.0",
            "_model_name": "LayoutModel",
            "_view_count": null,
            "_view_module": "@jupyter-widgets/base",
            "_view_module_version": "1.2.0",
            "_view_name": "LayoutView",
            "align_content": null,
            "align_items": null,
            "align_self": null,
            "border": null,
            "bottom": null,
            "display": null,
            "flex": null,
            "flex_flow": null,
            "grid_area": null,
            "grid_auto_columns": null,
            "grid_auto_flow": null,
            "grid_auto_rows": null,
            "grid_column": null,
            "grid_gap": null,
            "grid_row": null,
            "grid_template_areas": null,
            "grid_template_columns": null,
            "grid_template_rows": null,
            "height": null,
            "justify_content": null,
            "justify_items": null,
            "left": null,
            "margin": null,
            "max_height": null,
            "max_width": null,
            "min_height": null,
            "min_width": null,
            "object_fit": null,
            "object_position": null,
            "order": null,
            "overflow": null,
            "overflow_x": null,
            "overflow_y": null,
            "padding": null,
            "right": null,
            "top": null,
            "visibility": null,
            "width": null
          }
        },
        "9ce1544a87c84836be95ae12c31aceef": {
          "model_module": "@jupyter-widgets/controls",
          "model_name": "ButtonStyleModel",
          "model_module_version": "1.5.0",
          "state": {
            "_model_module": "@jupyter-widgets/controls",
            "_model_module_version": "1.5.0",
            "_model_name": "ButtonStyleModel",
            "_view_count": null,
            "_view_module": "@jupyter-widgets/base",
            "_view_module_version": "1.2.0",
            "_view_name": "StyleView",
            "button_color": null,
            "font_weight": ""
          }
        },
        "3dfd6f34949e4662a13d8f2abd438325": {
          "model_module": "@jupyter-widgets/base",
          "model_name": "LayoutModel",
          "model_module_version": "1.2.0",
          "state": {
            "_model_module": "@jupyter-widgets/base",
            "_model_module_version": "1.2.0",
            "_model_name": "LayoutModel",
            "_view_count": null,
            "_view_module": "@jupyter-widgets/base",
            "_view_module_version": "1.2.0",
            "_view_name": "LayoutView",
            "align_content": null,
            "align_items": null,
            "align_self": null,
            "border": null,
            "bottom": null,
            "display": null,
            "flex": null,
            "flex_flow": null,
            "grid_area": null,
            "grid_auto_columns": null,
            "grid_auto_flow": null,
            "grid_auto_rows": null,
            "grid_column": null,
            "grid_gap": null,
            "grid_row": null,
            "grid_template_areas": null,
            "grid_template_columns": null,
            "grid_template_rows": null,
            "height": null,
            "justify_content": null,
            "justify_items": null,
            "left": null,
            "margin": null,
            "max_height": null,
            "max_width": null,
            "min_height": null,
            "min_width": null,
            "object_fit": null,
            "object_position": null,
            "order": null,
            "overflow": null,
            "overflow_x": null,
            "overflow_y": null,
            "padding": null,
            "right": null,
            "top": null,
            "visibility": null,
            "width": null
          }
        },
        "81c0bcc0709c4e93a12dc61f77522cae": {
          "model_module": "@jupyter-widgets/controls",
          "model_name": "DescriptionStyleModel",
          "model_module_version": "1.5.0",
          "state": {
            "_model_module": "@jupyter-widgets/controls",
            "_model_module_version": "1.5.0",
            "_model_name": "DescriptionStyleModel",
            "_view_count": null,
            "_view_module": "@jupyter-widgets/base",
            "_view_module_version": "1.2.0",
            "_view_name": "StyleView",
            "description_width": ""
          }
        },
        "1f06d844184c4d1b940d07bf54b24c6a": {
          "model_module": "@jupyter-widgets/controls",
          "model_name": "LabelModel",
          "model_module_version": "1.5.0",
          "state": {
            "_dom_classes": [],
            "_model_module": "@jupyter-widgets/controls",
            "_model_module_version": "1.5.0",
            "_model_name": "LabelModel",
            "_view_count": null,
            "_view_module": "@jupyter-widgets/controls",
            "_view_module_version": "1.5.0",
            "_view_name": "LabelView",
            "description": "",
            "description_tooltip": null,
            "layout": "IPY_MODEL_4bb6d96d6e8441df9075730025c81678",
            "placeholder": "​",
            "style": "IPY_MODEL_3a573a716f1640d583091561fc0d512e",
            "value": "Connecting..."
          }
        },
        "4bb6d96d6e8441df9075730025c81678": {
          "model_module": "@jupyter-widgets/base",
          "model_name": "LayoutModel",
          "model_module_version": "1.2.0",
          "state": {
            "_model_module": "@jupyter-widgets/base",
            "_model_module_version": "1.2.0",
            "_model_name": "LayoutModel",
            "_view_count": null,
            "_view_module": "@jupyter-widgets/base",
            "_view_module_version": "1.2.0",
            "_view_name": "LayoutView",
            "align_content": null,
            "align_items": null,
            "align_self": null,
            "border": null,
            "bottom": null,
            "display": null,
            "flex": null,
            "flex_flow": null,
            "grid_area": null,
            "grid_auto_columns": null,
            "grid_auto_flow": null,
            "grid_auto_rows": null,
            "grid_column": null,
            "grid_gap": null,
            "grid_row": null,
            "grid_template_areas": null,
            "grid_template_columns": null,
            "grid_template_rows": null,
            "height": null,
            "justify_content": null,
            "justify_items": null,
            "left": null,
            "margin": null,
            "max_height": null,
            "max_width": null,
            "min_height": null,
            "min_width": null,
            "object_fit": null,
            "object_position": null,
            "order": null,
            "overflow": null,
            "overflow_x": null,
            "overflow_y": null,
            "padding": null,
            "right": null,
            "top": null,
            "visibility": null,
            "width": null
          }
        },
        "3a573a716f1640d583091561fc0d512e": {
          "model_module": "@jupyter-widgets/controls",
          "model_name": "DescriptionStyleModel",
          "model_module_version": "1.5.0",
          "state": {
            "_model_module": "@jupyter-widgets/controls",
            "_model_module_version": "1.5.0",
            "_model_name": "DescriptionStyleModel",
            "_view_count": null,
            "_view_module": "@jupyter-widgets/base",
            "_view_module_version": "1.2.0",
            "_view_name": "StyleView",
            "description_width": ""
          }
        },
        "aab6810a72cb46e4b7ebdc7084ab3e89": {
          "model_module": "@jupyter-widgets/controls",
          "model_name": "LabelModel",
          "model_module_version": "1.5.0",
          "state": {
            "_dom_classes": [],
            "_model_module": "@jupyter-widgets/controls",
            "_model_module_version": "1.5.0",
            "_model_name": "LabelModel",
            "_view_count": null,
            "_view_module": "@jupyter-widgets/controls",
            "_view_module_version": "1.5.0",
            "_view_name": "LabelView",
            "description": "",
            "description_tooltip": null,
            "layout": "IPY_MODEL_d64845cdd6c740489118ddcd8d8b47c9",
            "placeholder": "​",
            "style": "IPY_MODEL_0ae012e96b2344de9122db5d4cf4439a",
            "value": "Token is valid (permission: write)."
          }
        },
        "ddaf24a95566477ca4f12b412b764067": {
          "model_module": "@jupyter-widgets/controls",
          "model_name": "LabelModel",
          "model_module_version": "1.5.0",
          "state": {
            "_dom_classes": [],
            "_model_module": "@jupyter-widgets/controls",
            "_model_module_version": "1.5.0",
            "_model_name": "LabelModel",
            "_view_count": null,
            "_view_module": "@jupyter-widgets/controls",
            "_view_module_version": "1.5.0",
            "_view_name": "LabelView",
            "description": "",
            "description_tooltip": null,
            "layout": "IPY_MODEL_40359e4314304c82bfb400a34ddae8e5",
            "placeholder": "​",
            "style": "IPY_MODEL_2636b2995db0443c8c7d9921e102eaf7",
            "value": "Your token has been saved in your configured git credential helpers (store)."
          }
        },
        "b9bd38e12ded4c3b8fd9d5a7c5464e65": {
          "model_module": "@jupyter-widgets/controls",
          "model_name": "LabelModel",
          "model_module_version": "1.5.0",
          "state": {
            "_dom_classes": [],
            "_model_module": "@jupyter-widgets/controls",
            "_model_module_version": "1.5.0",
            "_model_name": "LabelModel",
            "_view_count": null,
            "_view_module": "@jupyter-widgets/controls",
            "_view_module_version": "1.5.0",
            "_view_name": "LabelView",
            "description": "",
            "description_tooltip": null,
            "layout": "IPY_MODEL_0221483aca49494ba49071445f64e04a",
            "placeholder": "​",
            "style": "IPY_MODEL_9e7d64be1c2742f9b108c4a50d2c4965",
            "value": "Your token has been saved to /root/.cache/huggingface/token"
          }
        },
        "7b0b8e8dda894319bb1de8568dcc6c63": {
          "model_module": "@jupyter-widgets/controls",
          "model_name": "LabelModel",
          "model_module_version": "1.5.0",
          "state": {
            "_dom_classes": [],
            "_model_module": "@jupyter-widgets/controls",
            "_model_module_version": "1.5.0",
            "_model_name": "LabelModel",
            "_view_count": null,
            "_view_module": "@jupyter-widgets/controls",
            "_view_module_version": "1.5.0",
            "_view_name": "LabelView",
            "description": "",
            "description_tooltip": null,
            "layout": "IPY_MODEL_386adfadfaa94d3fb98028a3a4d4926a",
            "placeholder": "​",
            "style": "IPY_MODEL_c9d1e6f7766641ddabaee6dc4893212a",
            "value": "Login successful"
          }
        },
        "d64845cdd6c740489118ddcd8d8b47c9": {
          "model_module": "@jupyter-widgets/base",
          "model_name": "LayoutModel",
          "model_module_version": "1.2.0",
          "state": {
            "_model_module": "@jupyter-widgets/base",
            "_model_module_version": "1.2.0",
            "_model_name": "LayoutModel",
            "_view_count": null,
            "_view_module": "@jupyter-widgets/base",
            "_view_module_version": "1.2.0",
            "_view_name": "LayoutView",
            "align_content": null,
            "align_items": null,
            "align_self": null,
            "border": null,
            "bottom": null,
            "display": null,
            "flex": null,
            "flex_flow": null,
            "grid_area": null,
            "grid_auto_columns": null,
            "grid_auto_flow": null,
            "grid_auto_rows": null,
            "grid_column": null,
            "grid_gap": null,
            "grid_row": null,
            "grid_template_areas": null,
            "grid_template_columns": null,
            "grid_template_rows": null,
            "height": null,
            "justify_content": null,
            "justify_items": null,
            "left": null,
            "margin": null,
            "max_height": null,
            "max_width": null,
            "min_height": null,
            "min_width": null,
            "object_fit": null,
            "object_position": null,
            "order": null,
            "overflow": null,
            "overflow_x": null,
            "overflow_y": null,
            "padding": null,
            "right": null,
            "top": null,
            "visibility": null,
            "width": null
          }
        },
        "0ae012e96b2344de9122db5d4cf4439a": {
          "model_module": "@jupyter-widgets/controls",
          "model_name": "DescriptionStyleModel",
          "model_module_version": "1.5.0",
          "state": {
            "_model_module": "@jupyter-widgets/controls",
            "_model_module_version": "1.5.0",
            "_model_name": "DescriptionStyleModel",
            "_view_count": null,
            "_view_module": "@jupyter-widgets/base",
            "_view_module_version": "1.2.0",
            "_view_name": "StyleView",
            "description_width": ""
          }
        },
        "40359e4314304c82bfb400a34ddae8e5": {
          "model_module": "@jupyter-widgets/base",
          "model_name": "LayoutModel",
          "model_module_version": "1.2.0",
          "state": {
            "_model_module": "@jupyter-widgets/base",
            "_model_module_version": "1.2.0",
            "_model_name": "LayoutModel",
            "_view_count": null,
            "_view_module": "@jupyter-widgets/base",
            "_view_module_version": "1.2.0",
            "_view_name": "LayoutView",
            "align_content": null,
            "align_items": null,
            "align_self": null,
            "border": null,
            "bottom": null,
            "display": null,
            "flex": null,
            "flex_flow": null,
            "grid_area": null,
            "grid_auto_columns": null,
            "grid_auto_flow": null,
            "grid_auto_rows": null,
            "grid_column": null,
            "grid_gap": null,
            "grid_row": null,
            "grid_template_areas": null,
            "grid_template_columns": null,
            "grid_template_rows": null,
            "height": null,
            "justify_content": null,
            "justify_items": null,
            "left": null,
            "margin": null,
            "max_height": null,
            "max_width": null,
            "min_height": null,
            "min_width": null,
            "object_fit": null,
            "object_position": null,
            "order": null,
            "overflow": null,
            "overflow_x": null,
            "overflow_y": null,
            "padding": null,
            "right": null,
            "top": null,
            "visibility": null,
            "width": null
          }
        },
        "2636b2995db0443c8c7d9921e102eaf7": {
          "model_module": "@jupyter-widgets/controls",
          "model_name": "DescriptionStyleModel",
          "model_module_version": "1.5.0",
          "state": {
            "_model_module": "@jupyter-widgets/controls",
            "_model_module_version": "1.5.0",
            "_model_name": "DescriptionStyleModel",
            "_view_count": null,
            "_view_module": "@jupyter-widgets/base",
            "_view_module_version": "1.2.0",
            "_view_name": "StyleView",
            "description_width": ""
          }
        },
        "0221483aca49494ba49071445f64e04a": {
          "model_module": "@jupyter-widgets/base",
          "model_name": "LayoutModel",
          "model_module_version": "1.2.0",
          "state": {
            "_model_module": "@jupyter-widgets/base",
            "_model_module_version": "1.2.0",
            "_model_name": "LayoutModel",
            "_view_count": null,
            "_view_module": "@jupyter-widgets/base",
            "_view_module_version": "1.2.0",
            "_view_name": "LayoutView",
            "align_content": null,
            "align_items": null,
            "align_self": null,
            "border": null,
            "bottom": null,
            "display": null,
            "flex": null,
            "flex_flow": null,
            "grid_area": null,
            "grid_auto_columns": null,
            "grid_auto_flow": null,
            "grid_auto_rows": null,
            "grid_column": null,
            "grid_gap": null,
            "grid_row": null,
            "grid_template_areas": null,
            "grid_template_columns": null,
            "grid_template_rows": null,
            "height": null,
            "justify_content": null,
            "justify_items": null,
            "left": null,
            "margin": null,
            "max_height": null,
            "max_width": null,
            "min_height": null,
            "min_width": null,
            "object_fit": null,
            "object_position": null,
            "order": null,
            "overflow": null,
            "overflow_x": null,
            "overflow_y": null,
            "padding": null,
            "right": null,
            "top": null,
            "visibility": null,
            "width": null
          }
        },
        "9e7d64be1c2742f9b108c4a50d2c4965": {
          "model_module": "@jupyter-widgets/controls",
          "model_name": "DescriptionStyleModel",
          "model_module_version": "1.5.0",
          "state": {
            "_model_module": "@jupyter-widgets/controls",
            "_model_module_version": "1.5.0",
            "_model_name": "DescriptionStyleModel",
            "_view_count": null,
            "_view_module": "@jupyter-widgets/base",
            "_view_module_version": "1.2.0",
            "_view_name": "StyleView",
            "description_width": ""
          }
        },
        "386adfadfaa94d3fb98028a3a4d4926a": {
          "model_module": "@jupyter-widgets/base",
          "model_name": "LayoutModel",
          "model_module_version": "1.2.0",
          "state": {
            "_model_module": "@jupyter-widgets/base",
            "_model_module_version": "1.2.0",
            "_model_name": "LayoutModel",
            "_view_count": null,
            "_view_module": "@jupyter-widgets/base",
            "_view_module_version": "1.2.0",
            "_view_name": "LayoutView",
            "align_content": null,
            "align_items": null,
            "align_self": null,
            "border": null,
            "bottom": null,
            "display": null,
            "flex": null,
            "flex_flow": null,
            "grid_area": null,
            "grid_auto_columns": null,
            "grid_auto_flow": null,
            "grid_auto_rows": null,
            "grid_column": null,
            "grid_gap": null,
            "grid_row": null,
            "grid_template_areas": null,
            "grid_template_columns": null,
            "grid_template_rows": null,
            "height": null,
            "justify_content": null,
            "justify_items": null,
            "left": null,
            "margin": null,
            "max_height": null,
            "max_width": null,
            "min_height": null,
            "min_width": null,
            "object_fit": null,
            "object_position": null,
            "order": null,
            "overflow": null,
            "overflow_x": null,
            "overflow_y": null,
            "padding": null,
            "right": null,
            "top": null,
            "visibility": null,
            "width": null
          }
        },
        "c9d1e6f7766641ddabaee6dc4893212a": {
          "model_module": "@jupyter-widgets/controls",
          "model_name": "DescriptionStyleModel",
          "model_module_version": "1.5.0",
          "state": {
            "_model_module": "@jupyter-widgets/controls",
            "_model_module_version": "1.5.0",
            "_model_name": "DescriptionStyleModel",
            "_view_count": null,
            "_view_module": "@jupyter-widgets/base",
            "_view_module_version": "1.2.0",
            "_view_name": "StyleView",
            "description_width": ""
          }
        },
        "5d6342e1a4b741fe96011bad6b350fdb": {
          "model_module": "@jupyter-widgets/controls",
          "model_name": "HBoxModel",
          "model_module_version": "1.5.0",
          "state": {
            "_dom_classes": [],
            "_model_module": "@jupyter-widgets/controls",
            "_model_module_version": "1.5.0",
            "_model_name": "HBoxModel",
            "_view_count": null,
            "_view_module": "@jupyter-widgets/controls",
            "_view_module_version": "1.5.0",
            "_view_name": "HBoxView",
            "box_style": "",
            "children": [
              "IPY_MODEL_b6148de9c8c149819c836ffd1317b6d6",
              "IPY_MODEL_63e46a571e964da2a8a678fdd652e546",
              "IPY_MODEL_883364f7b1fb4d29b7760ef6b3508a4f"
            ],
            "layout": "IPY_MODEL_474f6d9539024dcb972476a7df7bad3e"
          }
        },
        "b6148de9c8c149819c836ffd1317b6d6": {
          "model_module": "@jupyter-widgets/controls",
          "model_name": "HTMLModel",
          "model_module_version": "1.5.0",
          "state": {
            "_dom_classes": [],
            "_model_module": "@jupyter-widgets/controls",
            "_model_module_version": "1.5.0",
            "_model_name": "HTMLModel",
            "_view_count": null,
            "_view_module": "@jupyter-widgets/controls",
            "_view_module_version": "1.5.0",
            "_view_name": "HTMLView",
            "description": "",
            "description_tooltip": null,
            "layout": "IPY_MODEL_1740e2b75339476198e7107accbd8046",
            "placeholder": "​",
            "style": "IPY_MODEL_60ff2875115c4201ba2ea896ed4ae820",
            "value": "Loading checkpoint shards: 100%"
          }
        },
        "63e46a571e964da2a8a678fdd652e546": {
          "model_module": "@jupyter-widgets/controls",
          "model_name": "FloatProgressModel",
          "model_module_version": "1.5.0",
          "state": {
            "_dom_classes": [],
            "_model_module": "@jupyter-widgets/controls",
            "_model_module_version": "1.5.0",
            "_model_name": "FloatProgressModel",
            "_view_count": null,
            "_view_module": "@jupyter-widgets/controls",
            "_view_module_version": "1.5.0",
            "_view_name": "ProgressView",
            "bar_style": "success",
            "description": "",
            "description_tooltip": null,
            "layout": "IPY_MODEL_37ff18a05b7147b79750cff504600103",
            "max": 8,
            "min": 0,
            "orientation": "horizontal",
            "style": "IPY_MODEL_d9f896adb97d4e518c9d2bb406ffcfe7",
            "value": 8
          }
        },
        "883364f7b1fb4d29b7760ef6b3508a4f": {
          "model_module": "@jupyter-widgets/controls",
          "model_name": "HTMLModel",
          "model_module_version": "1.5.0",
          "state": {
            "_dom_classes": [],
            "_model_module": "@jupyter-widgets/controls",
            "_model_module_version": "1.5.0",
            "_model_name": "HTMLModel",
            "_view_count": null,
            "_view_module": "@jupyter-widgets/controls",
            "_view_module_version": "1.5.0",
            "_view_name": "HTMLView",
            "description": "",
            "description_tooltip": null,
            "layout": "IPY_MODEL_05b716e1264f4070b6ba64d7d3d7cfd8",
            "placeholder": "​",
            "style": "IPY_MODEL_977ba3dad12f48dcb0caff45a4ebb9a5",
            "value": " 8/8 [01:07&lt;00:00,  7.32s/it]"
          }
        },
        "474f6d9539024dcb972476a7df7bad3e": {
          "model_module": "@jupyter-widgets/base",
          "model_name": "LayoutModel",
          "model_module_version": "1.2.0",
          "state": {
            "_model_module": "@jupyter-widgets/base",
            "_model_module_version": "1.2.0",
            "_model_name": "LayoutModel",
            "_view_count": null,
            "_view_module": "@jupyter-widgets/base",
            "_view_module_version": "1.2.0",
            "_view_name": "LayoutView",
            "align_content": null,
            "align_items": null,
            "align_self": null,
            "border": null,
            "bottom": null,
            "display": null,
            "flex": null,
            "flex_flow": null,
            "grid_area": null,
            "grid_auto_columns": null,
            "grid_auto_flow": null,
            "grid_auto_rows": null,
            "grid_column": null,
            "grid_gap": null,
            "grid_row": null,
            "grid_template_areas": null,
            "grid_template_columns": null,
            "grid_template_rows": null,
            "height": null,
            "justify_content": null,
            "justify_items": null,
            "left": null,
            "margin": null,
            "max_height": null,
            "max_width": null,
            "min_height": null,
            "min_width": null,
            "object_fit": null,
            "object_position": null,
            "order": null,
            "overflow": null,
            "overflow_x": null,
            "overflow_y": null,
            "padding": null,
            "right": null,
            "top": null,
            "visibility": null,
            "width": null
          }
        },
        "1740e2b75339476198e7107accbd8046": {
          "model_module": "@jupyter-widgets/base",
          "model_name": "LayoutModel",
          "model_module_version": "1.2.0",
          "state": {
            "_model_module": "@jupyter-widgets/base",
            "_model_module_version": "1.2.0",
            "_model_name": "LayoutModel",
            "_view_count": null,
            "_view_module": "@jupyter-widgets/base",
            "_view_module_version": "1.2.0",
            "_view_name": "LayoutView",
            "align_content": null,
            "align_items": null,
            "align_self": null,
            "border": null,
            "bottom": null,
            "display": null,
            "flex": null,
            "flex_flow": null,
            "grid_area": null,
            "grid_auto_columns": null,
            "grid_auto_flow": null,
            "grid_auto_rows": null,
            "grid_column": null,
            "grid_gap": null,
            "grid_row": null,
            "grid_template_areas": null,
            "grid_template_columns": null,
            "grid_template_rows": null,
            "height": null,
            "justify_content": null,
            "justify_items": null,
            "left": null,
            "margin": null,
            "max_height": null,
            "max_width": null,
            "min_height": null,
            "min_width": null,
            "object_fit": null,
            "object_position": null,
            "order": null,
            "overflow": null,
            "overflow_x": null,
            "overflow_y": null,
            "padding": null,
            "right": null,
            "top": null,
            "visibility": null,
            "width": null
          }
        },
        "60ff2875115c4201ba2ea896ed4ae820": {
          "model_module": "@jupyter-widgets/controls",
          "model_name": "DescriptionStyleModel",
          "model_module_version": "1.5.0",
          "state": {
            "_model_module": "@jupyter-widgets/controls",
            "_model_module_version": "1.5.0",
            "_model_name": "DescriptionStyleModel",
            "_view_count": null,
            "_view_module": "@jupyter-widgets/base",
            "_view_module_version": "1.2.0",
            "_view_name": "StyleView",
            "description_width": ""
          }
        },
        "37ff18a05b7147b79750cff504600103": {
          "model_module": "@jupyter-widgets/base",
          "model_name": "LayoutModel",
          "model_module_version": "1.2.0",
          "state": {
            "_model_module": "@jupyter-widgets/base",
            "_model_module_version": "1.2.0",
            "_model_name": "LayoutModel",
            "_view_count": null,
            "_view_module": "@jupyter-widgets/base",
            "_view_module_version": "1.2.0",
            "_view_name": "LayoutView",
            "align_content": null,
            "align_items": null,
            "align_self": null,
            "border": null,
            "bottom": null,
            "display": null,
            "flex": null,
            "flex_flow": null,
            "grid_area": null,
            "grid_auto_columns": null,
            "grid_auto_flow": null,
            "grid_auto_rows": null,
            "grid_column": null,
            "grid_gap": null,
            "grid_row": null,
            "grid_template_areas": null,
            "grid_template_columns": null,
            "grid_template_rows": null,
            "height": null,
            "justify_content": null,
            "justify_items": null,
            "left": null,
            "margin": null,
            "max_height": null,
            "max_width": null,
            "min_height": null,
            "min_width": null,
            "object_fit": null,
            "object_position": null,
            "order": null,
            "overflow": null,
            "overflow_x": null,
            "overflow_y": null,
            "padding": null,
            "right": null,
            "top": null,
            "visibility": null,
            "width": null
          }
        },
        "d9f896adb97d4e518c9d2bb406ffcfe7": {
          "model_module": "@jupyter-widgets/controls",
          "model_name": "ProgressStyleModel",
          "model_module_version": "1.5.0",
          "state": {
            "_model_module": "@jupyter-widgets/controls",
            "_model_module_version": "1.5.0",
            "_model_name": "ProgressStyleModel",
            "_view_count": null,
            "_view_module": "@jupyter-widgets/base",
            "_view_module_version": "1.2.0",
            "_view_name": "StyleView",
            "bar_color": null,
            "description_width": ""
          }
        },
        "05b716e1264f4070b6ba64d7d3d7cfd8": {
          "model_module": "@jupyter-widgets/base",
          "model_name": "LayoutModel",
          "model_module_version": "1.2.0",
          "state": {
            "_model_module": "@jupyter-widgets/base",
            "_model_module_version": "1.2.0",
            "_model_name": "LayoutModel",
            "_view_count": null,
            "_view_module": "@jupyter-widgets/base",
            "_view_module_version": "1.2.0",
            "_view_name": "LayoutView",
            "align_content": null,
            "align_items": null,
            "align_self": null,
            "border": null,
            "bottom": null,
            "display": null,
            "flex": null,
            "flex_flow": null,
            "grid_area": null,
            "grid_auto_columns": null,
            "grid_auto_flow": null,
            "grid_auto_rows": null,
            "grid_column": null,
            "grid_gap": null,
            "grid_row": null,
            "grid_template_areas": null,
            "grid_template_columns": null,
            "grid_template_rows": null,
            "height": null,
            "justify_content": null,
            "justify_items": null,
            "left": null,
            "margin": null,
            "max_height": null,
            "max_width": null,
            "min_height": null,
            "min_width": null,
            "object_fit": null,
            "object_position": null,
            "order": null,
            "overflow": null,
            "overflow_x": null,
            "overflow_y": null,
            "padding": null,
            "right": null,
            "top": null,
            "visibility": null,
            "width": null
          }
        },
        "977ba3dad12f48dcb0caff45a4ebb9a5": {
          "model_module": "@jupyter-widgets/controls",
          "model_name": "DescriptionStyleModel",
          "model_module_version": "1.5.0",
          "state": {
            "_model_module": "@jupyter-widgets/controls",
            "_model_module_version": "1.5.0",
            "_model_name": "DescriptionStyleModel",
            "_view_count": null,
            "_view_module": "@jupyter-widgets/base",
            "_view_module_version": "1.2.0",
            "_view_name": "StyleView",
            "description_width": ""
          }
        },
        "53ec1b3076024f3cb821a1b53a09ca01": {
          "model_module": "@jupyter-widgets/controls",
          "model_name": "HBoxModel",
          "model_module_version": "1.5.0",
          "state": {
            "_dom_classes": [],
            "_model_module": "@jupyter-widgets/controls",
            "_model_module_version": "1.5.0",
            "_model_name": "HBoxModel",
            "_view_count": null,
            "_view_module": "@jupyter-widgets/controls",
            "_view_module_version": "1.5.0",
            "_view_name": "HBoxView",
            "box_style": "",
            "children": [
              "IPY_MODEL_d83fad94f9d0411194cb08205fb14eb0",
              "IPY_MODEL_62eafa0cdb88421c9598b60287e5dd89",
              "IPY_MODEL_01198c3872544959ac3383a7a10159bd"
            ],
            "layout": "IPY_MODEL_75e80ca954394f38b6a0df9546878953"
          }
        },
        "d83fad94f9d0411194cb08205fb14eb0": {
          "model_module": "@jupyter-widgets/controls",
          "model_name": "HTMLModel",
          "model_module_version": "1.5.0",
          "state": {
            "_dom_classes": [],
            "_model_module": "@jupyter-widgets/controls",
            "_model_module_version": "1.5.0",
            "_model_name": "HTMLModel",
            "_view_count": null,
            "_view_module": "@jupyter-widgets/controls",
            "_view_module_version": "1.5.0",
            "_view_name": "HTMLView",
            "description": "",
            "description_tooltip": null,
            "layout": "IPY_MODEL_4ab04749be6e4ad896a42805eb188670",
            "placeholder": "​",
            "style": "IPY_MODEL_475952113fe2426c97e3eada24ecf6e3",
            "value": "Map: 100%"
          }
        },
        "62eafa0cdb88421c9598b60287e5dd89": {
          "model_module": "@jupyter-widgets/controls",
          "model_name": "FloatProgressModel",
          "model_module_version": "1.5.0",
          "state": {
            "_dom_classes": [],
            "_model_module": "@jupyter-widgets/controls",
            "_model_module_version": "1.5.0",
            "_model_name": "FloatProgressModel",
            "_view_count": null,
            "_view_module": "@jupyter-widgets/controls",
            "_view_module_version": "1.5.0",
            "_view_name": "ProgressView",
            "bar_style": "success",
            "description": "",
            "description_tooltip": null,
            "layout": "IPY_MODEL_a91d2197fe2b42f2a9f89f943c89a952",
            "max": 99,
            "min": 0,
            "orientation": "horizontal",
            "style": "IPY_MODEL_7b9973b416e447d4a411750cb474c3d7",
            "value": 99
          }
        },
        "01198c3872544959ac3383a7a10159bd": {
          "model_module": "@jupyter-widgets/controls",
          "model_name": "HTMLModel",
          "model_module_version": "1.5.0",
          "state": {
            "_dom_classes": [],
            "_model_module": "@jupyter-widgets/controls",
            "_model_module_version": "1.5.0",
            "_model_name": "HTMLModel",
            "_view_count": null,
            "_view_module": "@jupyter-widgets/controls",
            "_view_module_version": "1.5.0",
            "_view_name": "HTMLView",
            "description": "",
            "description_tooltip": null,
            "layout": "IPY_MODEL_278514af2c5a47c49147413b72dbdc15",
            "placeholder": "​",
            "style": "IPY_MODEL_def3fba0da0a49ae80a4b27300af8d80",
            "value": " 99/99 [00:00&lt;00:00, 1043.92 examples/s]"
          }
        },
        "75e80ca954394f38b6a0df9546878953": {
          "model_module": "@jupyter-widgets/base",
          "model_name": "LayoutModel",
          "model_module_version": "1.2.0",
          "state": {
            "_model_module": "@jupyter-widgets/base",
            "_model_module_version": "1.2.0",
            "_model_name": "LayoutModel",
            "_view_count": null,
            "_view_module": "@jupyter-widgets/base",
            "_view_module_version": "1.2.0",
            "_view_name": "LayoutView",
            "align_content": null,
            "align_items": null,
            "align_self": null,
            "border": null,
            "bottom": null,
            "display": null,
            "flex": null,
            "flex_flow": null,
            "grid_area": null,
            "grid_auto_columns": null,
            "grid_auto_flow": null,
            "grid_auto_rows": null,
            "grid_column": null,
            "grid_gap": null,
            "grid_row": null,
            "grid_template_areas": null,
            "grid_template_columns": null,
            "grid_template_rows": null,
            "height": null,
            "justify_content": null,
            "justify_items": null,
            "left": null,
            "margin": null,
            "max_height": null,
            "max_width": null,
            "min_height": null,
            "min_width": null,
            "object_fit": null,
            "object_position": null,
            "order": null,
            "overflow": null,
            "overflow_x": null,
            "overflow_y": null,
            "padding": null,
            "right": null,
            "top": null,
            "visibility": null,
            "width": null
          }
        },
        "4ab04749be6e4ad896a42805eb188670": {
          "model_module": "@jupyter-widgets/base",
          "model_name": "LayoutModel",
          "model_module_version": "1.2.0",
          "state": {
            "_model_module": "@jupyter-widgets/base",
            "_model_module_version": "1.2.0",
            "_model_name": "LayoutModel",
            "_view_count": null,
            "_view_module": "@jupyter-widgets/base",
            "_view_module_version": "1.2.0",
            "_view_name": "LayoutView",
            "align_content": null,
            "align_items": null,
            "align_self": null,
            "border": null,
            "bottom": null,
            "display": null,
            "flex": null,
            "flex_flow": null,
            "grid_area": null,
            "grid_auto_columns": null,
            "grid_auto_flow": null,
            "grid_auto_rows": null,
            "grid_column": null,
            "grid_gap": null,
            "grid_row": null,
            "grid_template_areas": null,
            "grid_template_columns": null,
            "grid_template_rows": null,
            "height": null,
            "justify_content": null,
            "justify_items": null,
            "left": null,
            "margin": null,
            "max_height": null,
            "max_width": null,
            "min_height": null,
            "min_width": null,
            "object_fit": null,
            "object_position": null,
            "order": null,
            "overflow": null,
            "overflow_x": null,
            "overflow_y": null,
            "padding": null,
            "right": null,
            "top": null,
            "visibility": null,
            "width": null
          }
        },
        "475952113fe2426c97e3eada24ecf6e3": {
          "model_module": "@jupyter-widgets/controls",
          "model_name": "DescriptionStyleModel",
          "model_module_version": "1.5.0",
          "state": {
            "_model_module": "@jupyter-widgets/controls",
            "_model_module_version": "1.5.0",
            "_model_name": "DescriptionStyleModel",
            "_view_count": null,
            "_view_module": "@jupyter-widgets/base",
            "_view_module_version": "1.2.0",
            "_view_name": "StyleView",
            "description_width": ""
          }
        },
        "a91d2197fe2b42f2a9f89f943c89a952": {
          "model_module": "@jupyter-widgets/base",
          "model_name": "LayoutModel",
          "model_module_version": "1.2.0",
          "state": {
            "_model_module": "@jupyter-widgets/base",
            "_model_module_version": "1.2.0",
            "_model_name": "LayoutModel",
            "_view_count": null,
            "_view_module": "@jupyter-widgets/base",
            "_view_module_version": "1.2.0",
            "_view_name": "LayoutView",
            "align_content": null,
            "align_items": null,
            "align_self": null,
            "border": null,
            "bottom": null,
            "display": null,
            "flex": null,
            "flex_flow": null,
            "grid_area": null,
            "grid_auto_columns": null,
            "grid_auto_flow": null,
            "grid_auto_rows": null,
            "grid_column": null,
            "grid_gap": null,
            "grid_row": null,
            "grid_template_areas": null,
            "grid_template_columns": null,
            "grid_template_rows": null,
            "height": null,
            "justify_content": null,
            "justify_items": null,
            "left": null,
            "margin": null,
            "max_height": null,
            "max_width": null,
            "min_height": null,
            "min_width": null,
            "object_fit": null,
            "object_position": null,
            "order": null,
            "overflow": null,
            "overflow_x": null,
            "overflow_y": null,
            "padding": null,
            "right": null,
            "top": null,
            "visibility": null,
            "width": null
          }
        },
        "7b9973b416e447d4a411750cb474c3d7": {
          "model_module": "@jupyter-widgets/controls",
          "model_name": "ProgressStyleModel",
          "model_module_version": "1.5.0",
          "state": {
            "_model_module": "@jupyter-widgets/controls",
            "_model_module_version": "1.5.0",
            "_model_name": "ProgressStyleModel",
            "_view_count": null,
            "_view_module": "@jupyter-widgets/base",
            "_view_module_version": "1.2.0",
            "_view_name": "StyleView",
            "bar_color": null,
            "description_width": ""
          }
        },
        "278514af2c5a47c49147413b72dbdc15": {
          "model_module": "@jupyter-widgets/base",
          "model_name": "LayoutModel",
          "model_module_version": "1.2.0",
          "state": {
            "_model_module": "@jupyter-widgets/base",
            "_model_module_version": "1.2.0",
            "_model_name": "LayoutModel",
            "_view_count": null,
            "_view_module": "@jupyter-widgets/base",
            "_view_module_version": "1.2.0",
            "_view_name": "LayoutView",
            "align_content": null,
            "align_items": null,
            "align_self": null,
            "border": null,
            "bottom": null,
            "display": null,
            "flex": null,
            "flex_flow": null,
            "grid_area": null,
            "grid_auto_columns": null,
            "grid_auto_flow": null,
            "grid_auto_rows": null,
            "grid_column": null,
            "grid_gap": null,
            "grid_row": null,
            "grid_template_areas": null,
            "grid_template_columns": null,
            "grid_template_rows": null,
            "height": null,
            "justify_content": null,
            "justify_items": null,
            "left": null,
            "margin": null,
            "max_height": null,
            "max_width": null,
            "min_height": null,
            "min_width": null,
            "object_fit": null,
            "object_position": null,
            "order": null,
            "overflow": null,
            "overflow_x": null,
            "overflow_y": null,
            "padding": null,
            "right": null,
            "top": null,
            "visibility": null,
            "width": null
          }
        },
        "def3fba0da0a49ae80a4b27300af8d80": {
          "model_module": "@jupyter-widgets/controls",
          "model_name": "DescriptionStyleModel",
          "model_module_version": "1.5.0",
          "state": {
            "_model_module": "@jupyter-widgets/controls",
            "_model_module_version": "1.5.0",
            "_model_name": "DescriptionStyleModel",
            "_view_count": null,
            "_view_module": "@jupyter-widgets/base",
            "_view_module_version": "1.2.0",
            "_view_name": "StyleView",
            "description_width": ""
          }
        },
        "aa447f79f2a2412ead7b29e1d0bc0e72": {
          "model_module": "@jupyter-widgets/controls",
          "model_name": "HBoxModel",
          "model_module_version": "1.5.0",
          "state": {
            "_dom_classes": [],
            "_model_module": "@jupyter-widgets/controls",
            "_model_module_version": "1.5.0",
            "_model_name": "HBoxModel",
            "_view_count": null,
            "_view_module": "@jupyter-widgets/controls",
            "_view_module_version": "1.5.0",
            "_view_name": "HBoxView",
            "box_style": "",
            "children": [
              "IPY_MODEL_cb4fa1b39bac4a4aaa7b86fc6f287c4d",
              "IPY_MODEL_701f0c7df0644203ade73a8a36cce175",
              "IPY_MODEL_8780e6ad0dbd499e9891cf8f29b8daff"
            ],
            "layout": "IPY_MODEL_79355faeed5843fa87e68b1b0d4bc7c1"
          }
        },
        "cb4fa1b39bac4a4aaa7b86fc6f287c4d": {
          "model_module": "@jupyter-widgets/controls",
          "model_name": "HTMLModel",
          "model_module_version": "1.5.0",
          "state": {
            "_dom_classes": [],
            "_model_module": "@jupyter-widgets/controls",
            "_model_module_version": "1.5.0",
            "_model_name": "HTMLModel",
            "_view_count": null,
            "_view_module": "@jupyter-widgets/controls",
            "_view_module_version": "1.5.0",
            "_view_name": "HTMLView",
            "description": "",
            "description_tooltip": null,
            "layout": "IPY_MODEL_e5d056e5ab8a4bfb9f66da29218fe48a",
            "placeholder": "​",
            "style": "IPY_MODEL_95cc51afde9546869b6c89a905fc2af7",
            "value": "adapter_model.safetensors: 100%"
          }
        },
        "701f0c7df0644203ade73a8a36cce175": {
          "model_module": "@jupyter-widgets/controls",
          "model_name": "FloatProgressModel",
          "model_module_version": "1.5.0",
          "state": {
            "_dom_classes": [],
            "_model_module": "@jupyter-widgets/controls",
            "_model_module_version": "1.5.0",
            "_model_name": "FloatProgressModel",
            "_view_count": null,
            "_view_module": "@jupyter-widgets/controls",
            "_view_module_version": "1.5.0",
            "_view_name": "ProgressView",
            "bar_style": "success",
            "description": "",
            "description_tooltip": null,
            "layout": "IPY_MODEL_c82f08c06b3d499394d90e975808ecd7",
            "max": 109069176,
            "min": 0,
            "orientation": "horizontal",
            "style": "IPY_MODEL_6d0c9c7b3b31466f8e38581c0a6b2ae2",
            "value": 109069176
          }
        },
        "8780e6ad0dbd499e9891cf8f29b8daff": {
          "model_module": "@jupyter-widgets/controls",
          "model_name": "HTMLModel",
          "model_module_version": "1.5.0",
          "state": {
            "_dom_classes": [],
            "_model_module": "@jupyter-widgets/controls",
            "_model_module_version": "1.5.0",
            "_model_name": "HTMLModel",
            "_view_count": null,
            "_view_module": "@jupyter-widgets/controls",
            "_view_module_version": "1.5.0",
            "_view_name": "HTMLView",
            "description": "",
            "description_tooltip": null,
            "layout": "IPY_MODEL_45d952cba7ca4e5fa65f2152d58db7be",
            "placeholder": "​",
            "style": "IPY_MODEL_d8861dfbea414d6387f66a614de024e3",
            "value": " 109M/109M [00:11&lt;00:00, 13.7MB/s]"
          }
        },
        "79355faeed5843fa87e68b1b0d4bc7c1": {
          "model_module": "@jupyter-widgets/base",
          "model_name": "LayoutModel",
          "model_module_version": "1.2.0",
          "state": {
            "_model_module": "@jupyter-widgets/base",
            "_model_module_version": "1.2.0",
            "_model_name": "LayoutModel",
            "_view_count": null,
            "_view_module": "@jupyter-widgets/base",
            "_view_module_version": "1.2.0",
            "_view_name": "LayoutView",
            "align_content": null,
            "align_items": null,
            "align_self": null,
            "border": null,
            "bottom": null,
            "display": null,
            "flex": null,
            "flex_flow": null,
            "grid_area": null,
            "grid_auto_columns": null,
            "grid_auto_flow": null,
            "grid_auto_rows": null,
            "grid_column": null,
            "grid_gap": null,
            "grid_row": null,
            "grid_template_areas": null,
            "grid_template_columns": null,
            "grid_template_rows": null,
            "height": null,
            "justify_content": null,
            "justify_items": null,
            "left": null,
            "margin": null,
            "max_height": null,
            "max_width": null,
            "min_height": null,
            "min_width": null,
            "object_fit": null,
            "object_position": null,
            "order": null,
            "overflow": null,
            "overflow_x": null,
            "overflow_y": null,
            "padding": null,
            "right": null,
            "top": null,
            "visibility": null,
            "width": null
          }
        },
        "e5d056e5ab8a4bfb9f66da29218fe48a": {
          "model_module": "@jupyter-widgets/base",
          "model_name": "LayoutModel",
          "model_module_version": "1.2.0",
          "state": {
            "_model_module": "@jupyter-widgets/base",
            "_model_module_version": "1.2.0",
            "_model_name": "LayoutModel",
            "_view_count": null,
            "_view_module": "@jupyter-widgets/base",
            "_view_module_version": "1.2.0",
            "_view_name": "LayoutView",
            "align_content": null,
            "align_items": null,
            "align_self": null,
            "border": null,
            "bottom": null,
            "display": null,
            "flex": null,
            "flex_flow": null,
            "grid_area": null,
            "grid_auto_columns": null,
            "grid_auto_flow": null,
            "grid_auto_rows": null,
            "grid_column": null,
            "grid_gap": null,
            "grid_row": null,
            "grid_template_areas": null,
            "grid_template_columns": null,
            "grid_template_rows": null,
            "height": null,
            "justify_content": null,
            "justify_items": null,
            "left": null,
            "margin": null,
            "max_height": null,
            "max_width": null,
            "min_height": null,
            "min_width": null,
            "object_fit": null,
            "object_position": null,
            "order": null,
            "overflow": null,
            "overflow_x": null,
            "overflow_y": null,
            "padding": null,
            "right": null,
            "top": null,
            "visibility": null,
            "width": null
          }
        },
        "95cc51afde9546869b6c89a905fc2af7": {
          "model_module": "@jupyter-widgets/controls",
          "model_name": "DescriptionStyleModel",
          "model_module_version": "1.5.0",
          "state": {
            "_model_module": "@jupyter-widgets/controls",
            "_model_module_version": "1.5.0",
            "_model_name": "DescriptionStyleModel",
            "_view_count": null,
            "_view_module": "@jupyter-widgets/base",
            "_view_module_version": "1.2.0",
            "_view_name": "StyleView",
            "description_width": ""
          }
        },
        "c82f08c06b3d499394d90e975808ecd7": {
          "model_module": "@jupyter-widgets/base",
          "model_name": "LayoutModel",
          "model_module_version": "1.2.0",
          "state": {
            "_model_module": "@jupyter-widgets/base",
            "_model_module_version": "1.2.0",
            "_model_name": "LayoutModel",
            "_view_count": null,
            "_view_module": "@jupyter-widgets/base",
            "_view_module_version": "1.2.0",
            "_view_name": "LayoutView",
            "align_content": null,
            "align_items": null,
            "align_self": null,
            "border": null,
            "bottom": null,
            "display": null,
            "flex": null,
            "flex_flow": null,
            "grid_area": null,
            "grid_auto_columns": null,
            "grid_auto_flow": null,
            "grid_auto_rows": null,
            "grid_column": null,
            "grid_gap": null,
            "grid_row": null,
            "grid_template_areas": null,
            "grid_template_columns": null,
            "grid_template_rows": null,
            "height": null,
            "justify_content": null,
            "justify_items": null,
            "left": null,
            "margin": null,
            "max_height": null,
            "max_width": null,
            "min_height": null,
            "min_width": null,
            "object_fit": null,
            "object_position": null,
            "order": null,
            "overflow": null,
            "overflow_x": null,
            "overflow_y": null,
            "padding": null,
            "right": null,
            "top": null,
            "visibility": null,
            "width": null
          }
        },
        "6d0c9c7b3b31466f8e38581c0a6b2ae2": {
          "model_module": "@jupyter-widgets/controls",
          "model_name": "ProgressStyleModel",
          "model_module_version": "1.5.0",
          "state": {
            "_model_module": "@jupyter-widgets/controls",
            "_model_module_version": "1.5.0",
            "_model_name": "ProgressStyleModel",
            "_view_count": null,
            "_view_module": "@jupyter-widgets/base",
            "_view_module_version": "1.2.0",
            "_view_name": "StyleView",
            "bar_color": null,
            "description_width": ""
          }
        },
        "45d952cba7ca4e5fa65f2152d58db7be": {
          "model_module": "@jupyter-widgets/base",
          "model_name": "LayoutModel",
          "model_module_version": "1.2.0",
          "state": {
            "_model_module": "@jupyter-widgets/base",
            "_model_module_version": "1.2.0",
            "_model_name": "LayoutModel",
            "_view_count": null,
            "_view_module": "@jupyter-widgets/base",
            "_view_module_version": "1.2.0",
            "_view_name": "LayoutView",
            "align_content": null,
            "align_items": null,
            "align_self": null,
            "border": null,
            "bottom": null,
            "display": null,
            "flex": null,
            "flex_flow": null,
            "grid_area": null,
            "grid_auto_columns": null,
            "grid_auto_flow": null,
            "grid_auto_rows": null,
            "grid_column": null,
            "grid_gap": null,
            "grid_row": null,
            "grid_template_areas": null,
            "grid_template_columns": null,
            "grid_template_rows": null,
            "height": null,
            "justify_content": null,
            "justify_items": null,
            "left": null,
            "margin": null,
            "max_height": null,
            "max_width": null,
            "min_height": null,
            "min_width": null,
            "object_fit": null,
            "object_position": null,
            "order": null,
            "overflow": null,
            "overflow_x": null,
            "overflow_y": null,
            "padding": null,
            "right": null,
            "top": null,
            "visibility": null,
            "width": null
          }
        },
        "d8861dfbea414d6387f66a614de024e3": {
          "model_module": "@jupyter-widgets/controls",
          "model_name": "DescriptionStyleModel",
          "model_module_version": "1.5.0",
          "state": {
            "_model_module": "@jupyter-widgets/controls",
            "_model_module_version": "1.5.0",
            "_model_name": "DescriptionStyleModel",
            "_view_count": null,
            "_view_module": "@jupyter-widgets/base",
            "_view_module_version": "1.2.0",
            "_view_name": "StyleView",
            "description_width": ""
          }
        }
      }
    }
  },
  "cells": [
    {
      "cell_type": "markdown",
      "metadata": {
        "id": "view-in-github",
        "colab_type": "text"
      },
      "source": [
        "<a href=\"https://colab.research.google.com/github/AliciaV15/Zephyr-7B-Beta_FineTuning/blob/master/ProyectoFinal.ipynb\" target=\"_parent\"><img src=\"https://colab.research.google.com/assets/colab-badge.svg\" alt=\"Open In Colab\"/></a>"
      ]
    },
    {
      "cell_type": "code",
      "execution_count": null,
      "metadata": {
        "colab": {
          "base_uri": "https://localhost:8080/"
        },
        "id": "Bi7rPa8TOOug",
        "outputId": "46e8085d-ddf9-470c-f494-c93df6907434"
      },
      "outputs": [
        {
          "output_type": "stream",
          "name": "stdout",
          "text": [
            "Requirement already satisfied: gdown in /usr/local/lib/python3.10/dist-packages (5.1.0)\n",
            "Requirement already satisfied: beautifulsoup4 in /usr/local/lib/python3.10/dist-packages (from gdown) (4.12.3)\n",
            "Requirement already satisfied: filelock in /usr/local/lib/python3.10/dist-packages (from gdown) (3.14.0)\n",
            "Requirement already satisfied: requests[socks] in /usr/local/lib/python3.10/dist-packages (from gdown) (2.32.3)\n",
            "Requirement already satisfied: tqdm in /usr/local/lib/python3.10/dist-packages (from gdown) (4.66.4)\n",
            "Requirement already satisfied: soupsieve>1.2 in /usr/local/lib/python3.10/dist-packages (from beautifulsoup4->gdown) (2.5)\n",
            "Requirement already satisfied: charset-normalizer<4,>=2 in /usr/local/lib/python3.10/dist-packages (from requests[socks]->gdown) (3.3.2)\n",
            "Requirement already satisfied: idna<4,>=2.5 in /usr/local/lib/python3.10/dist-packages (from requests[socks]->gdown) (3.7)\n",
            "Requirement already satisfied: urllib3<3,>=1.21.1 in /usr/local/lib/python3.10/dist-packages (from requests[socks]->gdown) (2.0.7)\n",
            "Requirement already satisfied: certifi>=2017.4.17 in /usr/local/lib/python3.10/dist-packages (from requests[socks]->gdown) (2024.6.2)\n",
            "Requirement already satisfied: PySocks!=1.5.7,>=1.5.6 in /usr/local/lib/python3.10/dist-packages (from requests[socks]->gdown) (1.7.1)\n"
          ]
        }
      ],
      "source": [
        "!pip install gdown\n"
      ]
    },
    {
      "cell_type": "code",
      "source": [
        "!pip install accelerate\n",
        "!pip install -i https://pypi.org/simple/ bitsandbytes"
      ],
      "metadata": {
        "colab": {
          "base_uri": "https://localhost:8080/"
        },
        "id": "md13zV-xOnlA",
        "outputId": "6546d367-c734-4b16-8fbe-fe1927cedf72"
      },
      "execution_count": null,
      "outputs": [
        {
          "output_type": "stream",
          "name": "stdout",
          "text": [
            "Requirement already satisfied: accelerate in /usr/local/lib/python3.10/dist-packages (0.31.0)\n",
            "Requirement already satisfied: numpy>=1.17 in /usr/local/lib/python3.10/dist-packages (from accelerate) (1.25.2)\n",
            "Requirement already satisfied: packaging>=20.0 in /usr/local/lib/python3.10/dist-packages (from accelerate) (24.1)\n",
            "Requirement already satisfied: psutil in /usr/local/lib/python3.10/dist-packages (from accelerate) (5.9.5)\n",
            "Requirement already satisfied: pyyaml in /usr/local/lib/python3.10/dist-packages (from accelerate) (6.0.1)\n",
            "Requirement already satisfied: torch>=1.10.0 in /usr/local/lib/python3.10/dist-packages (from accelerate) (2.3.0+cu121)\n",
            "Requirement already satisfied: huggingface-hub in /usr/local/lib/python3.10/dist-packages (from accelerate) (0.23.3)\n",
            "Requirement already satisfied: safetensors>=0.3.1 in /usr/local/lib/python3.10/dist-packages (from accelerate) (0.4.3)\n",
            "Requirement already satisfied: filelock in /usr/local/lib/python3.10/dist-packages (from torch>=1.10.0->accelerate) (3.14.0)\n",
            "Requirement already satisfied: typing-extensions>=4.8.0 in /usr/local/lib/python3.10/dist-packages (from torch>=1.10.0->accelerate) (4.12.2)\n",
            "Requirement already satisfied: sympy in /usr/local/lib/python3.10/dist-packages (from torch>=1.10.0->accelerate) (1.12.1)\n",
            "Requirement already satisfied: networkx in /usr/local/lib/python3.10/dist-packages (from torch>=1.10.0->accelerate) (3.3)\n",
            "Requirement already satisfied: jinja2 in /usr/local/lib/python3.10/dist-packages (from torch>=1.10.0->accelerate) (3.1.4)\n",
            "Requirement already satisfied: fsspec in /usr/local/lib/python3.10/dist-packages (from torch>=1.10.0->accelerate) (2023.6.0)\n",
            "Requirement already satisfied: nvidia-cuda-nvrtc-cu12==12.1.105 in /usr/local/lib/python3.10/dist-packages (from torch>=1.10.0->accelerate) (12.1.105)\n",
            "Requirement already satisfied: nvidia-cuda-runtime-cu12==12.1.105 in /usr/local/lib/python3.10/dist-packages (from torch>=1.10.0->accelerate) (12.1.105)\n",
            "Requirement already satisfied: nvidia-cuda-cupti-cu12==12.1.105 in /usr/local/lib/python3.10/dist-packages (from torch>=1.10.0->accelerate) (12.1.105)\n",
            "Requirement already satisfied: nvidia-cudnn-cu12==8.9.2.26 in /usr/local/lib/python3.10/dist-packages (from torch>=1.10.0->accelerate) (8.9.2.26)\n",
            "Requirement already satisfied: nvidia-cublas-cu12==12.1.3.1 in /usr/local/lib/python3.10/dist-packages (from torch>=1.10.0->accelerate) (12.1.3.1)\n",
            "Requirement already satisfied: nvidia-cufft-cu12==11.0.2.54 in /usr/local/lib/python3.10/dist-packages (from torch>=1.10.0->accelerate) (11.0.2.54)\n",
            "Requirement already satisfied: nvidia-curand-cu12==10.3.2.106 in /usr/local/lib/python3.10/dist-packages (from torch>=1.10.0->accelerate) (10.3.2.106)\n",
            "Requirement already satisfied: nvidia-cusolver-cu12==11.4.5.107 in /usr/local/lib/python3.10/dist-packages (from torch>=1.10.0->accelerate) (11.4.5.107)\n",
            "Requirement already satisfied: nvidia-cusparse-cu12==12.1.0.106 in /usr/local/lib/python3.10/dist-packages (from torch>=1.10.0->accelerate) (12.1.0.106)\n",
            "Requirement already satisfied: nvidia-nccl-cu12==2.20.5 in /usr/local/lib/python3.10/dist-packages (from torch>=1.10.0->accelerate) (2.20.5)\n",
            "Requirement already satisfied: nvidia-nvtx-cu12==12.1.105 in /usr/local/lib/python3.10/dist-packages (from torch>=1.10.0->accelerate) (12.1.105)\n",
            "Requirement already satisfied: triton==2.3.0 in /usr/local/lib/python3.10/dist-packages (from torch>=1.10.0->accelerate) (2.3.0)\n",
            "Requirement already satisfied: nvidia-nvjitlink-cu12 in /usr/local/lib/python3.10/dist-packages (from nvidia-cusolver-cu12==11.4.5.107->torch>=1.10.0->accelerate) (12.5.40)\n",
            "Requirement already satisfied: requests in /usr/local/lib/python3.10/dist-packages (from huggingface-hub->accelerate) (2.32.3)\n",
            "Requirement already satisfied: tqdm>=4.42.1 in /usr/local/lib/python3.10/dist-packages (from huggingface-hub->accelerate) (4.66.4)\n",
            "Requirement already satisfied: MarkupSafe>=2.0 in /usr/local/lib/python3.10/dist-packages (from jinja2->torch>=1.10.0->accelerate) (2.1.5)\n",
            "Requirement already satisfied: charset-normalizer<4,>=2 in /usr/local/lib/python3.10/dist-packages (from requests->huggingface-hub->accelerate) (3.3.2)\n",
            "Requirement already satisfied: idna<4,>=2.5 in /usr/local/lib/python3.10/dist-packages (from requests->huggingface-hub->accelerate) (3.7)\n",
            "Requirement already satisfied: urllib3<3,>=1.21.1 in /usr/local/lib/python3.10/dist-packages (from requests->huggingface-hub->accelerate) (2.0.7)\n",
            "Requirement already satisfied: certifi>=2017.4.17 in /usr/local/lib/python3.10/dist-packages (from requests->huggingface-hub->accelerate) (2024.6.2)\n",
            "Requirement already satisfied: mpmath<1.4.0,>=1.1.0 in /usr/local/lib/python3.10/dist-packages (from sympy->torch>=1.10.0->accelerate) (1.3.0)\n",
            "Looking in indexes: https://pypi.org/simple/\n",
            "Requirement already satisfied: bitsandbytes in /usr/local/lib/python3.10/dist-packages (0.43.1)\n",
            "Requirement already satisfied: torch in /usr/local/lib/python3.10/dist-packages (from bitsandbytes) (2.3.0+cu121)\n",
            "Requirement already satisfied: numpy in /usr/local/lib/python3.10/dist-packages (from bitsandbytes) (1.25.2)\n",
            "Requirement already satisfied: filelock in /usr/local/lib/python3.10/dist-packages (from torch->bitsandbytes) (3.14.0)\n",
            "Requirement already satisfied: typing-extensions>=4.8.0 in /usr/local/lib/python3.10/dist-packages (from torch->bitsandbytes) (4.12.2)\n",
            "Requirement already satisfied: sympy in /usr/local/lib/python3.10/dist-packages (from torch->bitsandbytes) (1.12.1)\n",
            "Requirement already satisfied: networkx in /usr/local/lib/python3.10/dist-packages (from torch->bitsandbytes) (3.3)\n",
            "Requirement already satisfied: jinja2 in /usr/local/lib/python3.10/dist-packages (from torch->bitsandbytes) (3.1.4)\n",
            "Requirement already satisfied: fsspec in /usr/local/lib/python3.10/dist-packages (from torch->bitsandbytes) (2023.6.0)\n",
            "Requirement already satisfied: nvidia-cuda-nvrtc-cu12==12.1.105 in /usr/local/lib/python3.10/dist-packages (from torch->bitsandbytes) (12.1.105)\n",
            "Requirement already satisfied: nvidia-cuda-runtime-cu12==12.1.105 in /usr/local/lib/python3.10/dist-packages (from torch->bitsandbytes) (12.1.105)\n",
            "Requirement already satisfied: nvidia-cuda-cupti-cu12==12.1.105 in /usr/local/lib/python3.10/dist-packages (from torch->bitsandbytes) (12.1.105)\n",
            "Requirement already satisfied: nvidia-cudnn-cu12==8.9.2.26 in /usr/local/lib/python3.10/dist-packages (from torch->bitsandbytes) (8.9.2.26)\n",
            "Requirement already satisfied: nvidia-cublas-cu12==12.1.3.1 in /usr/local/lib/python3.10/dist-packages (from torch->bitsandbytes) (12.1.3.1)\n",
            "Requirement already satisfied: nvidia-cufft-cu12==11.0.2.54 in /usr/local/lib/python3.10/dist-packages (from torch->bitsandbytes) (11.0.2.54)\n",
            "Requirement already satisfied: nvidia-curand-cu12==10.3.2.106 in /usr/local/lib/python3.10/dist-packages (from torch->bitsandbytes) (10.3.2.106)\n",
            "Requirement already satisfied: nvidia-cusolver-cu12==11.4.5.107 in /usr/local/lib/python3.10/dist-packages (from torch->bitsandbytes) (11.4.5.107)\n",
            "Requirement already satisfied: nvidia-cusparse-cu12==12.1.0.106 in /usr/local/lib/python3.10/dist-packages (from torch->bitsandbytes) (12.1.0.106)\n",
            "Requirement already satisfied: nvidia-nccl-cu12==2.20.5 in /usr/local/lib/python3.10/dist-packages (from torch->bitsandbytes) (2.20.5)\n",
            "Requirement already satisfied: nvidia-nvtx-cu12==12.1.105 in /usr/local/lib/python3.10/dist-packages (from torch->bitsandbytes) (12.1.105)\n",
            "Requirement already satisfied: triton==2.3.0 in /usr/local/lib/python3.10/dist-packages (from torch->bitsandbytes) (2.3.0)\n",
            "Requirement already satisfied: nvidia-nvjitlink-cu12 in /usr/local/lib/python3.10/dist-packages (from nvidia-cusolver-cu12==11.4.5.107->torch->bitsandbytes) (12.5.40)\n",
            "Requirement already satisfied: MarkupSafe>=2.0 in /usr/local/lib/python3.10/dist-packages (from jinja2->torch->bitsandbytes) (2.1.5)\n",
            "Requirement already satisfied: mpmath<1.4.0,>=1.1.0 in /usr/local/lib/python3.10/dist-packages (from sympy->torch->bitsandbytes) (1.3.0)\n"
          ]
        }
      ]
    },
    {
      "cell_type": "code",
      "source": [
        "import torch\n",
        "from transformers import pipeline\n",
        "\n",
        "pipe = pipeline(\"text-generation\", model=\"HuggingFaceH4/zephyr-7b-beta\", torch_dtype=torch.bfloat16, device_map=\"auto\")"
      ],
      "metadata": {
        "colab": {
          "base_uri": "https://localhost:8080/",
          "height": 356
        },
        "id": "TNKNEg68Or0R",
        "outputId": "f8bef469-5422-4e81-dd0e-b61c54068caa"
      },
      "execution_count": null,
      "outputs": [
        {
          "output_type": "error",
          "ename": "KeyboardInterrupt",
          "evalue": "",
          "traceback": [
            "\u001b[0;31m---------------------------------------------------------------------------\u001b[0m",
            "\u001b[0;31mKeyboardInterrupt\u001b[0m                         Traceback (most recent call last)",
            "\u001b[0;32m<ipython-input-3-753ecb626684>\u001b[0m in \u001b[0;36m<cell line: 1>\u001b[0;34m()\u001b[0m\n\u001b[0;32m----> 1\u001b[0;31m \u001b[0;32mimport\u001b[0m \u001b[0mtorch\u001b[0m\u001b[0;34m\u001b[0m\u001b[0;34m\u001b[0m\u001b[0m\n\u001b[0m\u001b[1;32m      2\u001b[0m \u001b[0;32mfrom\u001b[0m \u001b[0mtransformers\u001b[0m \u001b[0;32mimport\u001b[0m \u001b[0mpipeline\u001b[0m\u001b[0;34m\u001b[0m\u001b[0;34m\u001b[0m\u001b[0m\n\u001b[1;32m      3\u001b[0m \u001b[0;34m\u001b[0m\u001b[0m\n\u001b[1;32m      4\u001b[0m \u001b[0mpipe\u001b[0m \u001b[0;34m=\u001b[0m \u001b[0mpipeline\u001b[0m\u001b[0;34m(\u001b[0m\u001b[0;34m\"text-generation\"\u001b[0m\u001b[0;34m,\u001b[0m \u001b[0mmodel\u001b[0m\u001b[0;34m=\u001b[0m\u001b[0;34m\"HuggingFaceH4/zephyr-7b-beta\"\u001b[0m\u001b[0;34m,\u001b[0m \u001b[0mtorch_dtype\u001b[0m\u001b[0;34m=\u001b[0m\u001b[0mtorch\u001b[0m\u001b[0;34m.\u001b[0m\u001b[0mbfloat16\u001b[0m\u001b[0;34m,\u001b[0m \u001b[0mdevice_map\u001b[0m\u001b[0;34m=\u001b[0m\u001b[0;34m\"auto\"\u001b[0m\u001b[0;34m)\u001b[0m\u001b[0;34m\u001b[0m\u001b[0;34m\u001b[0m\u001b[0m\n",
            "\u001b[0;32m/usr/local/lib/python3.10/dist-packages/torch/__init__.py\u001b[0m in \u001b[0;36m<module>\u001b[0;34m\u001b[0m\n\u001b[1;32m   1917\u001b[0m \u001b[0;32mfrom\u001b[0m \u001b[0;34m.\u001b[0m \u001b[0;32mimport\u001b[0m \u001b[0mlibrary\u001b[0m\u001b[0;34m\u001b[0m\u001b[0;34m\u001b[0m\u001b[0m\n\u001b[1;32m   1918\u001b[0m \u001b[0;32mif\u001b[0m \u001b[0;32mnot\u001b[0m \u001b[0mTYPE_CHECKING\u001b[0m\u001b[0;34m:\u001b[0m\u001b[0;34m\u001b[0m\u001b[0;34m\u001b[0m\u001b[0m\n\u001b[0;32m-> 1919\u001b[0;31m     \u001b[0;32mfrom\u001b[0m \u001b[0;34m.\u001b[0m \u001b[0;32mimport\u001b[0m \u001b[0m_meta_registrations\u001b[0m\u001b[0;34m\u001b[0m\u001b[0;34m\u001b[0m\u001b[0m\n\u001b[0m\u001b[1;32m   1920\u001b[0m \u001b[0;34m\u001b[0m\u001b[0m\n\u001b[1;32m   1921\u001b[0m \u001b[0;31m# Enable CUDA Sanitizer\u001b[0m\u001b[0;34m\u001b[0m\u001b[0;34m\u001b[0m\u001b[0m\n",
            "\u001b[0;32m/usr/local/lib/python3.10/dist-packages/torch/_meta_registrations.py\u001b[0m in \u001b[0;36m<module>\u001b[0;34m\u001b[0m\n\u001b[1;32m      7\u001b[0m \u001b[0;32mimport\u001b[0m \u001b[0mtorch\u001b[0m\u001b[0;34m.\u001b[0m\u001b[0m_prims_common\u001b[0m \u001b[0;32mas\u001b[0m \u001b[0mutils\u001b[0m\u001b[0;34m\u001b[0m\u001b[0;34m\u001b[0m\u001b[0m\n\u001b[1;32m      8\u001b[0m \u001b[0;32mfrom\u001b[0m \u001b[0mtorch\u001b[0m \u001b[0;32mimport\u001b[0m \u001b[0mSymBool\u001b[0m\u001b[0;34m,\u001b[0m \u001b[0mSymFloat\u001b[0m\u001b[0;34m,\u001b[0m \u001b[0mTensor\u001b[0m\u001b[0;34m\u001b[0m\u001b[0;34m\u001b[0m\u001b[0m\n\u001b[0;32m----> 9\u001b[0;31m from torch._decomp import (\n\u001b[0m\u001b[1;32m     10\u001b[0m     \u001b[0m_add_op_to_registry\u001b[0m\u001b[0;34m,\u001b[0m\u001b[0;34m\u001b[0m\u001b[0;34m\u001b[0m\u001b[0m\n\u001b[1;32m     11\u001b[0m     \u001b[0m_convert_out_params\u001b[0m\u001b[0;34m,\u001b[0m\u001b[0;34m\u001b[0m\u001b[0;34m\u001b[0m\u001b[0m\n",
            "\u001b[0;32m/usr/local/lib/python3.10/dist-packages/torch/_decomp/__init__.py\u001b[0m in \u001b[0;36m<module>\u001b[0;34m\u001b[0m\n\u001b[1;32m    243\u001b[0m \u001b[0;31m# populate the table\u001b[0m\u001b[0;34m\u001b[0m\u001b[0;34m\u001b[0m\u001b[0m\n\u001b[1;32m    244\u001b[0m \u001b[0;32mimport\u001b[0m \u001b[0mtorch\u001b[0m\u001b[0;34m.\u001b[0m\u001b[0m_decomp\u001b[0m\u001b[0;34m.\u001b[0m\u001b[0mdecompositions\u001b[0m\u001b[0;34m\u001b[0m\u001b[0;34m\u001b[0m\u001b[0m\n\u001b[0;32m--> 245\u001b[0;31m \u001b[0;32mimport\u001b[0m \u001b[0mtorch\u001b[0m\u001b[0;34m.\u001b[0m\u001b[0m_refs\u001b[0m\u001b[0;34m\u001b[0m\u001b[0;34m\u001b[0m\u001b[0m\n\u001b[0m\u001b[1;32m    246\u001b[0m \u001b[0;34m\u001b[0m\u001b[0m\n\u001b[1;32m    247\u001b[0m \u001b[0;34m\u001b[0m\u001b[0m\n",
            "\u001b[0;32m/usr/local/lib/python3.10/dist-packages/torch/_refs/__init__.py\u001b[0m in \u001b[0;36m<module>\u001b[0;34m\u001b[0m\n\u001b[1;32m   2635\u001b[0m def atleast_3d(\n\u001b[1;32m   2636\u001b[0m     \u001b[0marg\u001b[0m\u001b[0;34m:\u001b[0m \u001b[0mUnion\u001b[0m\u001b[0;34m[\u001b[0m\u001b[0mTensorLikeType\u001b[0m\u001b[0;34m,\u001b[0m \u001b[0mSequence\u001b[0m\u001b[0;34m[\u001b[0m\u001b[0mTensorLikeType\u001b[0m\u001b[0;34m]\u001b[0m\u001b[0;34m]\u001b[0m\u001b[0;34m,\u001b[0m \u001b[0;34m*\u001b[0m\u001b[0margs\u001b[0m\u001b[0;34m:\u001b[0m \u001b[0mTensorLikeType\u001b[0m\u001b[0;34m\u001b[0m\u001b[0;34m\u001b[0m\u001b[0m\n\u001b[0;32m-> 2637\u001b[0;31m ) -> Union[TensorLikeType, Tuple[TensorLikeType, ...]]:\n\u001b[0m\u001b[1;32m   2638\u001b[0m     \u001b[0;34m\"\"\"Reference implementation of :func:`torch.atleast_3d`.\"\"\"\u001b[0m\u001b[0;34m\u001b[0m\u001b[0;34m\u001b[0m\u001b[0m\n\u001b[1;32m   2639\u001b[0m     \u001b[0;32mif\u001b[0m \u001b[0;32mnot\u001b[0m \u001b[0margs\u001b[0m \u001b[0;32mand\u001b[0m \u001b[0misinstance\u001b[0m\u001b[0;34m(\u001b[0m\u001b[0marg\u001b[0m\u001b[0;34m,\u001b[0m \u001b[0mcollections\u001b[0m\u001b[0;34m.\u001b[0m\u001b[0mabc\u001b[0m\u001b[0;34m.\u001b[0m\u001b[0mSequence\u001b[0m\u001b[0;34m)\u001b[0m\u001b[0;34m:\u001b[0m\u001b[0;34m\u001b[0m\u001b[0;34m\u001b[0m\u001b[0m\n",
            "\u001b[0;32m/usr/lib/python3.10/typing.py\u001b[0m in \u001b[0;36minner\u001b[0;34m(*args, **kwds)\u001b[0m\n\u001b[1;32m    307\u001b[0m         \u001b[0;32mdef\u001b[0m \u001b[0minner\u001b[0m\u001b[0;34m(\u001b[0m\u001b[0;34m*\u001b[0m\u001b[0margs\u001b[0m\u001b[0;34m,\u001b[0m \u001b[0;34m**\u001b[0m\u001b[0mkwds\u001b[0m\u001b[0;34m)\u001b[0m\u001b[0;34m:\u001b[0m\u001b[0;34m\u001b[0m\u001b[0;34m\u001b[0m\u001b[0m\n\u001b[1;32m    308\u001b[0m             \u001b[0;32mtry\u001b[0m\u001b[0;34m:\u001b[0m\u001b[0;34m\u001b[0m\u001b[0;34m\u001b[0m\u001b[0m\n\u001b[0;32m--> 309\u001b[0;31m                 \u001b[0;32mreturn\u001b[0m \u001b[0mcached\u001b[0m\u001b[0;34m(\u001b[0m\u001b[0;34m*\u001b[0m\u001b[0margs\u001b[0m\u001b[0;34m,\u001b[0m \u001b[0;34m**\u001b[0m\u001b[0mkwds\u001b[0m\u001b[0;34m)\u001b[0m\u001b[0;34m\u001b[0m\u001b[0;34m\u001b[0m\u001b[0m\n\u001b[0m\u001b[1;32m    310\u001b[0m             \u001b[0;32mexcept\u001b[0m \u001b[0mTypeError\u001b[0m\u001b[0;34m:\u001b[0m\u001b[0;34m\u001b[0m\u001b[0;34m\u001b[0m\u001b[0m\n\u001b[1;32m    311\u001b[0m                 \u001b[0;32mpass\u001b[0m  \u001b[0;31m# All real errors (not unhashable args) are raised below.\u001b[0m\u001b[0;34m\u001b[0m\u001b[0;34m\u001b[0m\u001b[0m\n",
            "\u001b[0;31mKeyboardInterrupt\u001b[0m: "
          ]
        }
      ]
    },
    {
      "cell_type": "code",
      "source": [
        "preguntas = [\n",
        "    # 5 preguntas de primaria\n",
        "    \"¿Qué es la fotosíntesis?\",\n",
        "    \"¿Qué es el aparato digestivo?\",\n",
        "    \"¿Qué es la electricidad estática?\",\n",
        "    \"Explícame cómo funciona el ciclo del agua.\",\n",
        "    \"Explícame la teoría de la evolución.\",\n",
        "    # 5 preguntas de secundaria\n",
        "    \"¿Qué fue la Revolución Francesa?\",\n",
        "    \"Explícame las leyes de Newton.\",\n",
        "    \"Explícame el ciclo del carbono.\",\n",
        "    \"Explícame la teoría atómica.\",\n",
        "    \"¿Qué es el imperialismo?\"\n",
        "\n",
        "]\n",
        "\n",
        "archivo_salida = \"preguntas_respuestas_SIN_FT.txt\"\n",
        "\n",
        "# Abrir el archivo en modo escritura\n",
        "with open(archivo_salida, 'w') as archivo:\n",
        "    # Iterar sobre cada pregunta\n",
        "    for pregunta in preguntas:\n",
        "        # Crear el mensaje con la pregunta\n",
        "        messages = [{\"role\": \"user\", \"content\": pregunta}]\n",
        "\n",
        "        # Aplicar el template del tokenizer\n",
        "        prompt = pipe.tokenizer.apply_chat_template(messages, tokenize=False, add_generation_prompt=True)\n",
        "\n",
        "        # Obtener la respuesta del modelo\n",
        "        outputs = pipe(prompt, max_new_tokens=500, do_sample=True, temperature=0.7, top_k=50, top_p=0.95)\n",
        "        respuesta = outputs[0][\"generated_text\"]\n",
        "        print(\"Pregunta: \", pregunta)\n",
        "        print(\"Respuesta: \", respuesta)\n",
        "        print()\n",
        "\n",
        "        # Escribir la pregunta y la respuesta en el archivo\n",
        "        archivo.write(f\"Pregunta: {pregunta}\\n\")\n",
        "        archivo.write(f\"Respuesta: {respuesta}\\n\\n\")\n",
        "\n",
        "print(\"Preguntas y respuestas guardadas en\", archivo_salida)"
      ],
      "metadata": {
        "colab": {
          "base_uri": "https://localhost:8080/"
        },
        "id": "5nzoH-v2O03j",
        "outputId": "826c8b2c-eb33-4009-ef56-56bbaeffb8ae"
      },
      "execution_count": null,
      "outputs": [
        {
          "output_type": "stream",
          "name": "stdout",
          "text": [
            "Pregunta:  ¿Qué es la fotosíntesis?\n",
            "Respuesta:  <|user|>\n",
            "¿Qué es la fotosíntesis?</s>\n",
            "<|assistant|>\n",
            "La fotosíntesis es un proceso natural que ocurre en las plantas, algas y cianobacterias para generar energía y materia orgánica a partir de la luz solar, el agua y el dióxido de carbono del aire. Este proceso es fundamental para la vida en la Tierra, ya que proporciona el oxígeno atmosférico y la mayoría de la biomasa que forma la base de la cadena alimentaria para los animales y los seres humanos. En resumen, la fotosíntesis es el proceso por el cual las plantas y otros organismos convertiden la energía solar en energía química que pueden usar para vivir y crecer.\n",
            "\n",
            "Pregunta:  ¿Qué es el aparato digestivo?\n",
            "Respuesta:  <|user|>\n",
            "¿Qué es el aparato digestivo?</s>\n",
            "<|assistant|>\n",
            "El aparato digestivo es el sistema biológico encargado de procesar y romper los alimentos en nutrientes que el cuerpo pueda absorber y utilizar. Comprende varias estructuras y procesos que se desarrollan en la boca, el esófago, el estómago, el intestino delgado y delgado, el intestino grueso, el colon, el recto y la anus, y se encuentra en la mayoría de los animales con capacidad para absorber nutrientes de la comida. En resumen, el aparato digestivo es el sistema responsable de la digestión y la absorción de nutrientes en el organismo.\n",
            "\n",
            "Pregunta:  ¿Qué es la electricidad estática?\n",
            "Respuesta:  <|user|>\n",
            "¿Qué es la electricidad estática?</s>\n",
            "<|assistant|>\n",
            "La electricidad estática se refiere al acumulo de cargas eléctricas en un objeto o superficie a causa de la interacción entre sus moléculas y el medio ambiente. Esto puede ocurrir cuando se mueve un objeto a través de un material con carga diferente, como caminar sobre una carpeta de lana o mover un plástico a través del aire seco. La electricidad estática puede generar descargas eléctricas, como rayos de trueno o descargas electrostáticas, que pueden causar daños en los equipos electrónicos y afectar la salud humana en casos extremos. Además, la electricidad estática también tiene aplicaciones prácticas en la industria, como en la fabricación de papel, la limpieza de superficies y la separación de mezclas.\n",
            "\n",
            "Pregunta:  Explícame cómo funciona el ciclo del agua.\n",
            "Respuesta:  <|user|>\n",
            "Explícame cómo funciona el ciclo del agua.</s>\n",
            "<|assistant|>\n",
            "El ciclo del agua, también conocido como ciclo hidrológico, es el proceso natural en el que el agua cambia de estado entre la atmósfera, la tierra y los cuerpos de agua, formando un ciclo continuo. Este proceso puede ser resumido en seis principales estados o fases:\n",
            "\n",
            "1. Evapotranspiración: El agua se evapora de la superficie del suelo, las plantas y los cuerpos de agua, y se eleva al aire como vapor de agua. Esta fase se conoce como evapotranspiración y es impulsada por la energía solar y el viento.\n",
            "\n",
            "2. Nubes: El vapor de agua se condensa en las nubes debido al enfriamiento del aire en altas altitudes. Las nubes se forman gracias a la elevación del aire y la humedad que se encuentra en el aire.\n",
            "\n",
            "3. Precipitación: Los núculos de agua en las nubes se convierten en gotas o cristales de hielo y caen al suelo como lluvia, nieve, granizo o borrascas. Este proceso se conoce como precipitación.\n",
            "\n",
            "4. Acumulación: La lluvia, nieve o granizo que caen al suelo se acumulan en los cuerpos de agua como lagos, ríos, mar y glaciares.\n",
            "\n",
            "5. Corriente subterránea: La precipitación que no se acumula en los cuerpos de agua se infiltra en el suelo y forma la corriente subterránea. Esta corriente se dirige hacia los acuíferos, que son reservorios subterráneos de agua que se utilizan para el abastecimiento de agua.\n",
            "\n",
            "6. Retorno: El agua de la corriente subterránea regresa al ciclo hidrológico cuando se evapora del suelo o se extrae para el consumo humano o el uso agrícola\n",
            "\n",
            "Pregunta:  Explícame la teoría de la evolución.\n",
            "Respuesta:  <|user|>\n",
            "Explícame la teoría de la evolución.</s>\n",
            "<|assistant|>\n",
            "La teoría de la evolución se refiere al proceso por el cual las especies biológicas se han desarrollado y se han convertido en formas diferentes a lo largo de la historia de la vida en la Tierra. Está basada en cuatro principales componentes: la variación, la herencia, la selección natural y el tiempo.\n",
            "\n",
            "1. Variación: Todos los organismos se reproducen y se desarrollan de forma diferente, lo que genera variación genética y fenotípica entre los miembros de una misma población. Esta variación puede ser causada por mutaciones aleatorias en el ADN, meiosis, o influencia del entorno.\n",
            "\n",
            "2. Herencia: La variación es heredada de generación en generación, lo que permite que los nuevos organismos nacan con algunas características de sus padres. Esta herencia es causada por la transmisión de genes de padres a hijos durante la reproducción.\n",
            "\n",
            "3. Selección natural: Algunas variaciones son más adaptativas que otras en un entorno específico, lo que resulta en una mayor supervivencia y reproducción de los organismos que tienen esas características. Estos organismos se reproducen a mayor velocidad que los menos adaptativos, lo que resulta en la concentración de esas características en la población.\n",
            "\n",
            "4. Tiempo: El proceso de evolución es un proceso lento y gradual que se ha desarrollado durante miles de millones de años, con una gran cantidad de cambios pequeños que han acumulado a lo largo de la historia de la vida en la Tierra.\n",
            "\n",
            "En resumen, la teoría de la evolución afirma que las especies biológicas se han desarrollado y se han convertido en formas diferentes a lo largo de la historia de la vida en la Tierra debido a la variación, la herencia, la selección natural y el tiempo.\n",
            "\n",
            "Pregunta:  ¿Qué fue la Revolución Francesa?\n",
            "Respuesta:  <|user|>\n",
            "¿Qué fue la Revolución Francesa?</s>\n",
            "<|assistant|>\n",
            "La Revolución Francesa fue un período histórico que se desarrolló en Francia entre 1789 y 1799, marcado por el surgimiento de ideas radicales que desafiaban la estructura social, política y económica tradicional del país. Estos cambios se originaron en la Asamblea Nacional, convocada para ayudar a superar la crisis económica y fiscal que azotaba al reino, pero que acabó transformándose en un órgano de poder popular.\n",
            "\n",
            "El movimiento revolucionario se desencadenó con la Toma de la Bastilla, un evento simbolizando el rechazo del pueblo francés a la opresión real y nobiliaria. La Revolución se caracterizó por la adopción de la Declaración de los Derechos del Hombre y del Ciudadano, que establecía los principios de libertad, igualdad y fraternidad y fue utilizada como base para la construcción de una nueva sociedad.\n",
            "\n",
            "La Revolución también estableció un sistema republicano y la introducción de una nueva organización administrativa y judicial, como por ejemplo, el sistema de departamentos. Además, se adoptó el calendario republicano, que se basaba en el sol y en la agricultura, y se desechó el calendario gregoriano.\n",
            "\n",
            "La Revolución también fue marcada por la Guerra de la Primera Coalición, un conflicto que enfrentó a Francia contra una coalición de potencias europeas, entre las que se encontraban Austria, Prusia y Reino Unido. Esta guerra, que duró desde 1792 hasta 1797, resultó en la derrota de Francia y la ocupación de territorios franceses por parte de las fuerzas de la coalición.\n",
            "\n",
            "Finalmente, la Revolución Francesa llegó a su fin con la llegada del Directorio, un gobierno militar establecido para reemplazar la Asamblea Nacional y que estuvo encabezado por Napoleón Bonaparte, quien se autoproclamó emperador de Francia en\n",
            "\n",
            "Pregunta:  Explícame las leyes de Newton.\n",
            "Respuesta:  <|user|>\n",
            "Explícame las leyes de Newton.</s>\n",
            "<|assistant|>\n",
            "Isaac Newton es un científico y matemático británico de gran importancia en la historia de la física. Las leyes de Newton son un conjunto de principios básicos que explican el comportamiento de los objetos en el mundo físico. Estas leyes son:\n",
            "\n",
            "1. Ley de la inercia: Un cuerpo reposado se mantiene en reposo y un cuerpo en movimiento se mantiene en movimiento a una velocidad constante con una aceleración constante si no se aplica ninguna fuerza externa.\n",
            "\n",
            "2. Ley del movimiento uniformemente acelerado: La aceleración de un cuerpo es directamente proporcional a la fuerza que actúa sobre él y inversamente proporcional al peso del cuerpo. El tiempo que dura la aceleración es directamente proporcional al cambio de velocidad y inversamente proporcional a la aceleración.\n",
            "\n",
            "3. Ley de la gravitación universal: Cada punto de la superficie de un cuerpo masivo atrae a otro cuerpo masivo con una fuerza que es directamente proporcional al producto de sus masas y inversamente proporcional al cuadrado de la distancia entre ellas.\n",
            "\n",
            "Estas leyes han permitido el desarrollo de la física moderna y han servido de base para la comprensión de fenómenos físicos como el movimiento de los planetas, la caída de los astros y la órbita de la Luna.\n",
            "\n",
            "Pregunta:  Explícame el ciclo del carbono.\n",
            "Respuesta:  <|user|>\n",
            "Explícame el ciclo del carbono.</s>\n",
            "<|assistant|>\n",
            "El ciclo del carbono es un proceso natural en el que el carbono se intercambia entre diferentes reservorios en la Tierra, el océano, la atmósfera y la biomasa. Este ciclo se desencadena cuando las plantas y otros organismos fotosintéticos absorben dióxido de carbono (CO2) y agua (H2O) mediante la fotosíntesis, produciendo oxígeno (O2) y biomasa orgánica.\n",
            "\n",
            "El carbono se almacena en la biomasa orgánica, que puede convertirse en carbón fósil a través de la acumulación y la metamorfosis de materiales orgánicos antiguos. La combustión de carbón fósil, la actividad humana y otras fuentes liberan dióxido de carbono al aire, aumentando la concentración de CO2 en la atmósfera.\n",
            "\n",
            "El océano también absorbe CO2 de la atmósfera, pero esta absorción puede saturarse si la concentración de CO2 en la atmósfera aumenta demasiado rápidamente. El dióxido de carbono también se disuelve en el océano, donde se une a la biomasa marina y a la roca del fondo marino, formando carbonatos y sulfatos de calcio.\n",
            "\n",
            "Cuando las plantas y los organismos mueren, sus restos se descomponen y el carbono se libera de nuevo al ambiente. El carbono también se transfiere de la biomasa a la atmósfera a través de la respiración de los animales y las plantas, y a través del metabolismo de los microorganismos en la superficie del suelo y en el océano.\n",
            "\n",
            "En resumen, el ciclo del carbono es un proceso dinámico y complejo que involucra la interacción entre la biomasa, el aire, el agua y el suelo. Su comprensión es importante para la comprensión del cambio climático, ya que el aumento de\n",
            "\n",
            "Pregunta:  Explícame la teoría atómica.\n",
            "Respuesta:  <|user|>\n",
            "Explícame la teoría atómica.</s>\n",
            "<|assistant|>\n",
            "La teoría atómica es un modelo científico que describe la estructura y la composición de la materia a nivel microscópico. Según esta teoría, todo el material se compone de particulas básicas llamadas átomos, que son indivisibles y tienen masa y carga eléctrica específicos.\n",
            "\n",
            "Cada átomo está formado por un núcleo, que contiene partículas llamadas protones y neutrones, y uno o más electrones que orbitan alrededor del núcleo. Los protones tienen carga positiva, los neutrones carecen de carga, y los electrones tienen carga negativa. La suma de la carga de los protones y electrones en un átomo es cero, lo que significa que el átomo en su conjunto es neutro.\n",
            "\n",
            "La teoría atómica también explica la estructura de los átomos y la forma en que los electrones orbitan alrededor del núcleo. Según esta teoría, los electrones se mueven en ciertas órbitas específicas llamadas niveles energéticos o capas, con electrones en la capa más cercana al núcleo teniendo menos energía y, por lo tanto, siendo más estables que los electrones en las capas más alejadas del núcleo.\n",
            "\n",
            "La teoría atómica también ayuda a explicar las propiedades y reacciones químicas de los materiales. Cuando dos átomos se unen químicamente, se transfiere electrónes entre ellos, lo que resulta en la formación de un compuesto químico nuevo. La teoría atómica permite predecir cómo se comportarán los electrones en estas interacciones y cómo se producirán las reacciones químicas.\n",
            "\n",
            "En resumen, la teoría atómica es una importante contribución a la comprensión de la estructura y la composición de la materia, y se utiliza ampliamente\n",
            "\n",
            "Pregunta:  ¿Qué es el imperialismo?\n",
            "Respuesta:  <|user|>\n",
            "¿Qué es el imperialismo?</s>\n",
            "<|assistant|>\n",
            "El imperialismo se refiere a la expansión política, económica, cultural y militar de un país más poderoso sobre territorios y pueblos menos desarrollados con el objetivo de acaparar recursos naturales, mercados, influencia política y poder económico. Esta actividad colonialista se lleva a cabo a menudo a través de la fuerza, la coerción o el engaño, y tiene como consecuencia la explotación y subordinación de los pueblos colonizados. El imperialismo ha tenido graves consecuencias sociales, económicas y políticas en las regiones afectadas, incluyendo el desplazamiento de la población local, la ruina económica, el despojo de la identidad cultural y la imposición de sistemas políticos y económicos extranjeros.\n",
            "\n",
            "Preguntas y respuestas guardadas en preguntas_respuestas_SIN_FT.txt\n"
          ]
        }
      ]
    },
    {
      "cell_type": "markdown",
      "source": [
        "##FINE-TUNING"
      ],
      "metadata": {
        "id": "ouudFKoJYT43"
      }
    },
    {
      "cell_type": "code",
      "source": [
        "!pip install accelerate trl peft datasets"
      ],
      "metadata": {
        "colab": {
          "base_uri": "https://localhost:8080/"
        },
        "id": "Xbd4LTHPZ-hf",
        "outputId": "5fa06f78-f1ae-4231-c26c-ec95d9b78262"
      },
      "execution_count": null,
      "outputs": [
        {
          "output_type": "stream",
          "name": "stdout",
          "text": [
            "Requirement already satisfied: accelerate in /usr/local/lib/python3.10/dist-packages (0.31.0)\n",
            "Requirement already satisfied: trl in /usr/local/lib/python3.10/dist-packages (0.9.4)\n",
            "Requirement already satisfied: peft in /usr/local/lib/python3.10/dist-packages (0.11.1)\n",
            "Requirement already satisfied: datasets in /usr/local/lib/python3.10/dist-packages (2.20.0)\n",
            "Requirement already satisfied: numpy>=1.17 in /usr/local/lib/python3.10/dist-packages (from accelerate) (1.25.2)\n",
            "Requirement already satisfied: packaging>=20.0 in /usr/local/lib/python3.10/dist-packages (from accelerate) (24.1)\n",
            "Requirement already satisfied: psutil in /usr/local/lib/python3.10/dist-packages (from accelerate) (5.9.5)\n",
            "Requirement already satisfied: pyyaml in /usr/local/lib/python3.10/dist-packages (from accelerate) (6.0.1)\n",
            "Requirement already satisfied: torch>=1.10.0 in /usr/local/lib/python3.10/dist-packages (from accelerate) (2.3.0+cu121)\n",
            "Requirement already satisfied: huggingface-hub in /usr/local/lib/python3.10/dist-packages (from accelerate) (0.23.3)\n",
            "Requirement already satisfied: safetensors>=0.3.1 in /usr/local/lib/python3.10/dist-packages (from accelerate) (0.4.3)\n",
            "Requirement already satisfied: transformers>=4.31.0 in /usr/local/lib/python3.10/dist-packages (from trl) (4.41.2)\n",
            "Requirement already satisfied: tyro>=0.5.11 in /usr/local/lib/python3.10/dist-packages (from trl) (0.8.4)\n",
            "Requirement already satisfied: tqdm in /usr/local/lib/python3.10/dist-packages (from peft) (4.66.4)\n",
            "Requirement already satisfied: filelock in /usr/local/lib/python3.10/dist-packages (from datasets) (3.14.0)\n",
            "Requirement already satisfied: pyarrow>=15.0.0 in /usr/local/lib/python3.10/dist-packages (from datasets) (16.1.0)\n",
            "Requirement already satisfied: pyarrow-hotfix in /usr/local/lib/python3.10/dist-packages (from datasets) (0.6)\n",
            "Requirement already satisfied: dill<0.3.9,>=0.3.0 in /usr/local/lib/python3.10/dist-packages (from datasets) (0.3.8)\n",
            "Requirement already satisfied: pandas in /usr/local/lib/python3.10/dist-packages (from datasets) (2.0.3)\n",
            "Requirement already satisfied: requests>=2.32.2 in /usr/local/lib/python3.10/dist-packages (from datasets) (2.32.3)\n",
            "Requirement already satisfied: xxhash in /usr/local/lib/python3.10/dist-packages (from datasets) (3.4.1)\n",
            "Requirement already satisfied: multiprocess in /usr/local/lib/python3.10/dist-packages (from datasets) (0.70.16)\n",
            "Requirement already satisfied: fsspec[http]<=2024.5.0,>=2023.1.0 in /usr/local/lib/python3.10/dist-packages (from datasets) (2023.6.0)\n",
            "Requirement already satisfied: aiohttp in /usr/local/lib/python3.10/dist-packages (from datasets) (3.9.5)\n",
            "Requirement already satisfied: aiosignal>=1.1.2 in /usr/local/lib/python3.10/dist-packages (from aiohttp->datasets) (1.3.1)\n",
            "Requirement already satisfied: attrs>=17.3.0 in /usr/local/lib/python3.10/dist-packages (from aiohttp->datasets) (23.2.0)\n",
            "Requirement already satisfied: frozenlist>=1.1.1 in /usr/local/lib/python3.10/dist-packages (from aiohttp->datasets) (1.4.1)\n",
            "Requirement already satisfied: multidict<7.0,>=4.5 in /usr/local/lib/python3.10/dist-packages (from aiohttp->datasets) (6.0.5)\n",
            "Requirement already satisfied: yarl<2.0,>=1.0 in /usr/local/lib/python3.10/dist-packages (from aiohttp->datasets) (1.9.4)\n",
            "Requirement already satisfied: async-timeout<5.0,>=4.0 in /usr/local/lib/python3.10/dist-packages (from aiohttp->datasets) (4.0.3)\n",
            "Requirement already satisfied: typing-extensions>=3.7.4.3 in /usr/local/lib/python3.10/dist-packages (from huggingface-hub->accelerate) (4.12.2)\n",
            "Requirement already satisfied: charset-normalizer<4,>=2 in /usr/local/lib/python3.10/dist-packages (from requests>=2.32.2->datasets) (3.3.2)\n",
            "Requirement already satisfied: idna<4,>=2.5 in /usr/local/lib/python3.10/dist-packages (from requests>=2.32.2->datasets) (3.7)\n",
            "Requirement already satisfied: urllib3<3,>=1.21.1 in /usr/local/lib/python3.10/dist-packages (from requests>=2.32.2->datasets) (2.0.7)\n",
            "Requirement already satisfied: certifi>=2017.4.17 in /usr/local/lib/python3.10/dist-packages (from requests>=2.32.2->datasets) (2024.6.2)\n",
            "Requirement already satisfied: sympy in /usr/local/lib/python3.10/dist-packages (from torch>=1.10.0->accelerate) (1.12.1)\n",
            "Requirement already satisfied: networkx in /usr/local/lib/python3.10/dist-packages (from torch>=1.10.0->accelerate) (3.3)\n",
            "Requirement already satisfied: jinja2 in /usr/local/lib/python3.10/dist-packages (from torch>=1.10.0->accelerate) (3.1.4)\n",
            "Requirement already satisfied: nvidia-cuda-nvrtc-cu12==12.1.105 in /usr/local/lib/python3.10/dist-packages (from torch>=1.10.0->accelerate) (12.1.105)\n",
            "Requirement already satisfied: nvidia-cuda-runtime-cu12==12.1.105 in /usr/local/lib/python3.10/dist-packages (from torch>=1.10.0->accelerate) (12.1.105)\n",
            "Requirement already satisfied: nvidia-cuda-cupti-cu12==12.1.105 in /usr/local/lib/python3.10/dist-packages (from torch>=1.10.0->accelerate) (12.1.105)\n",
            "Requirement already satisfied: nvidia-cudnn-cu12==8.9.2.26 in /usr/local/lib/python3.10/dist-packages (from torch>=1.10.0->accelerate) (8.9.2.26)\n",
            "Requirement already satisfied: nvidia-cublas-cu12==12.1.3.1 in /usr/local/lib/python3.10/dist-packages (from torch>=1.10.0->accelerate) (12.1.3.1)\n",
            "Requirement already satisfied: nvidia-cufft-cu12==11.0.2.54 in /usr/local/lib/python3.10/dist-packages (from torch>=1.10.0->accelerate) (11.0.2.54)\n",
            "Requirement already satisfied: nvidia-curand-cu12==10.3.2.106 in /usr/local/lib/python3.10/dist-packages (from torch>=1.10.0->accelerate) (10.3.2.106)\n",
            "Requirement already satisfied: nvidia-cusolver-cu12==11.4.5.107 in /usr/local/lib/python3.10/dist-packages (from torch>=1.10.0->accelerate) (11.4.5.107)\n",
            "Requirement already satisfied: nvidia-cusparse-cu12==12.1.0.106 in /usr/local/lib/python3.10/dist-packages (from torch>=1.10.0->accelerate) (12.1.0.106)\n",
            "Requirement already satisfied: nvidia-nccl-cu12==2.20.5 in /usr/local/lib/python3.10/dist-packages (from torch>=1.10.0->accelerate) (2.20.5)\n",
            "Requirement already satisfied: nvidia-nvtx-cu12==12.1.105 in /usr/local/lib/python3.10/dist-packages (from torch>=1.10.0->accelerate) (12.1.105)\n",
            "Requirement already satisfied: triton==2.3.0 in /usr/local/lib/python3.10/dist-packages (from torch>=1.10.0->accelerate) (2.3.0)\n",
            "Requirement already satisfied: nvidia-nvjitlink-cu12 in /usr/local/lib/python3.10/dist-packages (from nvidia-cusolver-cu12==11.4.5.107->torch>=1.10.0->accelerate) (12.5.40)\n",
            "Requirement already satisfied: regex!=2019.12.17 in /usr/local/lib/python3.10/dist-packages (from transformers>=4.31.0->trl) (2024.5.15)\n",
            "Requirement already satisfied: tokenizers<0.20,>=0.19 in /usr/local/lib/python3.10/dist-packages (from transformers>=4.31.0->trl) (0.19.1)\n",
            "Requirement already satisfied: docstring-parser>=0.14.1 in /usr/local/lib/python3.10/dist-packages (from tyro>=0.5.11->trl) (0.16)\n",
            "Requirement already satisfied: rich>=11.1.0 in /usr/local/lib/python3.10/dist-packages (from tyro>=0.5.11->trl) (13.7.1)\n",
            "Requirement already satisfied: shtab>=1.5.6 in /usr/local/lib/python3.10/dist-packages (from tyro>=0.5.11->trl) (1.7.1)\n",
            "Requirement already satisfied: python-dateutil>=2.8.2 in /usr/local/lib/python3.10/dist-packages (from pandas->datasets) (2.8.2)\n",
            "Requirement already satisfied: pytz>=2020.1 in /usr/local/lib/python3.10/dist-packages (from pandas->datasets) (2023.4)\n",
            "Requirement already satisfied: tzdata>=2022.1 in /usr/local/lib/python3.10/dist-packages (from pandas->datasets) (2024.1)\n",
            "Requirement already satisfied: six>=1.5 in /usr/local/lib/python3.10/dist-packages (from python-dateutil>=2.8.2->pandas->datasets) (1.16.0)\n",
            "Requirement already satisfied: markdown-it-py>=2.2.0 in /usr/local/lib/python3.10/dist-packages (from rich>=11.1.0->tyro>=0.5.11->trl) (3.0.0)\n",
            "Requirement already satisfied: pygments<3.0.0,>=2.13.0 in /usr/local/lib/python3.10/dist-packages (from rich>=11.1.0->tyro>=0.5.11->trl) (2.16.1)\n",
            "Requirement already satisfied: MarkupSafe>=2.0 in /usr/local/lib/python3.10/dist-packages (from jinja2->torch>=1.10.0->accelerate) (2.1.5)\n",
            "Requirement already satisfied: mpmath<1.4.0,>=1.1.0 in /usr/local/lib/python3.10/dist-packages (from sympy->torch>=1.10.0->accelerate) (1.3.0)\n",
            "Requirement already satisfied: mdurl~=0.1 in /usr/local/lib/python3.10/dist-packages (from markdown-it-py>=2.2.0->rich>=11.1.0->tyro>=0.5.11->trl) (0.1.2)\n"
          ]
        }
      ]
    },
    {
      "cell_type": "code",
      "source": [
        "from datasets import load_dataset\n",
        "\n",
        "dataset_name = \"alivi/QASpanish\"\n",
        "\n",
        "dataset = load_dataset(dataset_name, split=\"train\")\n"
      ],
      "metadata": {
        "id": "z-F9HCT8YRbo"
      },
      "execution_count": null,
      "outputs": []
    },
    {
      "cell_type": "code",
      "source": [
        "dataset[2]"
      ],
      "metadata": {
        "colab": {
          "base_uri": "https://localhost:8080/"
        },
        "id": "Ui4L9e1RbFMH",
        "outputId": "35f6fe94-4989-489b-856c-dda9573de623"
      },
      "execution_count": null,
      "outputs": [
        {
          "output_type": "execute_result",
          "data": {
            "text/plain": [
              "{'pregunta': '¿Qué es la fotosíntesis?',\n",
              " 'respuesta': 'La fotosíntesis es el proceso por el cual las plantas, algas y algunas bacterias convierten la luz solar en energía química. Este proceso se lleva a cabo en los cloroplastos de las células vegetales, donde la clorofila absorbe la luz solar. Durante la fotosíntesis, las plantas toman dióxido de carbono del aire y agua del suelo, y utilizan la energía solar para convertir estos componentes en glucosa (un tipo de azúcar) y oxígeno. La ecuación química de la fotosíntesis es: 6CO2 + 6H2O + luz solar → C6H12O6 + 6O2. La glucosa es utilizada por la planta como fuente de energía y para crecer, mientras que el oxígeno es liberado al aire.'}"
            ]
          },
          "metadata": {},
          "execution_count": 5
        }
      ]
    },
    {
      "cell_type": "code",
      "source": [
        "!huggingface-cli login"
      ],
      "metadata": {
        "colab": {
          "base_uri": "https://localhost:8080/"
        },
        "id": "DEnajwAAd_Ru",
        "outputId": "d3fcf4da-81aa-427c-f63f-79fb35c450b7"
      },
      "execution_count": null,
      "outputs": [
        {
          "output_type": "stream",
          "name": "stdout",
          "text": [
            "\n",
            "    _|    _|  _|    _|    _|_|_|    _|_|_|  _|_|_|  _|      _|    _|_|_|      _|_|_|_|    _|_|      _|_|_|  _|_|_|_|\n",
            "    _|    _|  _|    _|  _|        _|          _|    _|_|    _|  _|            _|        _|    _|  _|        _|\n",
            "    _|_|_|_|  _|    _|  _|  _|_|  _|  _|_|    _|    _|  _|  _|  _|  _|_|      _|_|_|    _|_|_|_|  _|        _|_|_|\n",
            "    _|    _|  _|    _|  _|    _|  _|    _|    _|    _|    _|_|  _|    _|      _|        _|    _|  _|        _|\n",
            "    _|    _|    _|_|      _|_|_|    _|_|_|  _|_|_|  _|      _|    _|_|_|      _|        _|    _|    _|_|_|  _|_|_|_|\n",
            "\n",
            "    A token is already saved on your machine. Run `huggingface-cli whoami` to get more information or `huggingface-cli logout` if you want to log out.\n",
            "    Setting a new token will erase the existing one.\n",
            "    To login, `huggingface_hub` requires a token generated from https://huggingface.co/settings/tokens .\n",
            "Enter your token (input will not be visible): \n",
            "Add token as git credential? (Y/n) n\n",
            "Token is valid (permission: write).\n",
            "Your token has been saved to /root/.cache/huggingface/token\n",
            "Login successful\n"
          ]
        }
      ]
    },
    {
      "cell_type": "code",
      "source": [
        "!huggingface-cli whoami"
      ],
      "metadata": {
        "colab": {
          "base_uri": "https://localhost:8080/"
        },
        "id": "2mwnSG23eVSi",
        "outputId": "2a1a0827-4f5d-4c0a-9f40-eb483d2cfa2d"
      },
      "execution_count": null,
      "outputs": [
        {
          "output_type": "stream",
          "name": "stdout",
          "text": [
            "alivi\n"
          ]
        }
      ]
    },
    {
      "cell_type": "code",
      "source": [
        "import torch.cuda\n",
        "import torch\n",
        "\n",
        "torch.cuda.set_device(0)\n",
        "\n",
        "from transformers import AutoTokenizer, AutoModelForCausalLM, BitsAndBytesConfig\n",
        "\n",
        "bnb_config = BitsAndBytesConfig(load_in_4bit=True,\n",
        "    bnb_4bit_quant_type=\"nf4\",\n",
        "    bnb_4bit_compute_dtype=torch.bfloat16,\n",
        "    bnb_4bit_use_double_quant=False)\n",
        "\n",
        "tokenizer = AutoTokenizer.from_pretrained(\"HuggingFaceH4/zephyr-7b-beta\")\n",
        "tokenizer.pad_token = tokenizer.eos_token\n",
        "\n",
        "model = AutoModelForCausalLM.from_pretrained(\"HuggingFaceH4/zephyr-7b-beta\", quantization_config=bnb_config, device_map = 'auto')"
      ],
      "metadata": {
        "colab": {
          "base_uri": "https://localhost:8080/",
          "height": 49,
          "referenced_widgets": [
            "5d6342e1a4b741fe96011bad6b350fdb",
            "b6148de9c8c149819c836ffd1317b6d6",
            "63e46a571e964da2a8a678fdd652e546",
            "883364f7b1fb4d29b7760ef6b3508a4f",
            "474f6d9539024dcb972476a7df7bad3e",
            "1740e2b75339476198e7107accbd8046",
            "60ff2875115c4201ba2ea896ed4ae820",
            "37ff18a05b7147b79750cff504600103",
            "d9f896adb97d4e518c9d2bb406ffcfe7",
            "05b716e1264f4070b6ba64d7d3d7cfd8",
            "977ba3dad12f48dcb0caff45a4ebb9a5"
          ]
        },
        "id": "gIU3BUhueYt1",
        "outputId": "13f9ccc8-670a-44c4-d77e-bbd06d2c40f8"
      },
      "execution_count": null,
      "outputs": [
        {
          "output_type": "display_data",
          "data": {
            "text/plain": [
              "Loading checkpoint shards:   0%|          | 0/8 [00:00<?, ?it/s]"
            ],
            "application/vnd.jupyter.widget-view+json": {
              "version_major": 2,
              "version_minor": 0,
              "model_id": "5d6342e1a4b741fe96011bad6b350fdb"
            }
          },
          "metadata": {}
        }
      ]
    },
    {
      "cell_type": "markdown",
      "source": [
        "### Configuración LORA"
      ],
      "metadata": {
        "id": "cKwBKMeihvUa"
      }
    },
    {
      "cell_type": "code",
      "source": [
        "from peft import PeftModel, prepare_model_for_kbit_training, get_peft_model, LoraConfig, TaskType\n",
        "\n",
        "model.gradient_checkpointing_enable()\n",
        "model = prepare_model_for_kbit_training(model)"
      ],
      "metadata": {
        "id": "uqPQ8bxGhuji"
      },
      "execution_count": null,
      "outputs": []
    },
    {
      "cell_type": "code",
      "source": [
        "peft_config = LoraConfig(\n",
        "    task_type=TaskType.CAUSAL_LM,\n",
        "    inference_mode=False,\n",
        "    r=64,\n",
        "    lora_alpha=32,\n",
        "    lora_dropout=0.1\n",
        ")\n",
        "peft_model = get_peft_model(model, peft_config)\n",
        "peft_model = peft_model.to('cuda')"
      ],
      "metadata": {
        "id": "ew5T2o_BjZu-"
      },
      "execution_count": null,
      "outputs": []
    },
    {
      "cell_type": "code",
      "source": [
        "def print_trainable_parameters(model):\n",
        "    trainable_params = 0\n",
        "    all_param = 0\n",
        "    for _, param in model.named_parameters():\n",
        "        all_param += param.numel()\n",
        "        if param.requires_grad:\n",
        "            trainable_params += param.numel()\n",
        "    print(\n",
        "        f\"Parametros entrenables: {trainable_params} || Todos los parametros: {all_param} || Entrenable%: {100 * trainable_params / all_param}\"\n",
        "    )\n",
        "\n",
        "print_trainable_parameters(peft_model)"
      ],
      "metadata": {
        "colab": {
          "base_uri": "https://localhost:8080/"
        },
        "id": "qiEEpZ07jfWd",
        "outputId": "9f310e96-5cb5-412a-96b5-ad7acd767e5d"
      },
      "execution_count": null,
      "outputs": [
        {
          "output_type": "stream",
          "name": "stdout",
          "text": [
            "Parametros entrenables: 27262976 || Todos los parametros: 3779334144 || Entrenable%: 0.7213698223345028\n"
          ]
        }
      ]
    },
    {
      "cell_type": "markdown",
      "source": [
        "### Configuración del entrenamiento"
      ],
      "metadata": {
        "id": "o5II6NXkjvAr"
      }
    },
    {
      "cell_type": "code",
      "source": [
        "max_seq_length = 512\n",
        "\n",
        "from transformers import TrainingArguments, EarlyStoppingCallback\n",
        "from trl import SFTTrainer\n",
        "output_dir = \"./results\"\n",
        "optim = \"paged_adamw_32bit\"\n",
        "training_args = TrainingArguments(\n",
        "    output_dir=output_dir,\n",
        "    overwrite_output_dir=True,\n",
        "    optim=optim,\n",
        "    learning_rate=1e-4,\n",
        "    logging_steps=10,\n",
        "    max_steps=150,\n",
        "    warmup_ratio=0.3,\n",
        "    per_device_train_batch_size=8,\n",
        "    gradient_accumulation_steps=4,\n",
        "    gradient_checkpointing=True,\n",
        "    save_total_limit = 5,\n",
        "    fp16=True\n",
        "\n",
        ")"
      ],
      "metadata": {
        "id": "KE0wgo2WjyXX"
      },
      "execution_count": null,
      "outputs": []
    },
    {
      "cell_type": "code",
      "source": [
        "def process_data(examples):\n",
        "    texts = []\n",
        "    for preg, resp in zip(examples[\"pregunta\"], examples[\"respuesta\"]):\n",
        "        # Formato para un solo mensaje con prompt del sistema\n",
        "        text = f\"<s>[INST] <<SYS>> {preg} [/INST] {resp}</s>\"\n",
        "        texts.append(text)\n",
        "    # Creamos un dataset con la estructura deseada\n",
        "    dataset = Dataset.from_dict({\"text\": texts})\n",
        "\n",
        "    return dataset\n",
        "\n",
        "def format_function(example):\n",
        "    return example['text']"
      ],
      "metadata": {
        "id": "mdJiHjenj3UD"
      },
      "execution_count": null,
      "outputs": []
    },
    {
      "cell_type": "code",
      "source": [
        "from datasets import Dataset\n",
        "dataset = process_data(dataset)"
      ],
      "metadata": {
        "id": "cjgDvtstkCWq"
      },
      "execution_count": null,
      "outputs": []
    },
    {
      "cell_type": "code",
      "source": [
        "print(dataset)"
      ],
      "metadata": {
        "colab": {
          "base_uri": "https://localhost:8080/"
        },
        "id": "V2rnB-_UoVXk",
        "outputId": "feb59dd3-0ebf-4a08-a90f-7e91309c3614"
      },
      "execution_count": null,
      "outputs": [
        {
          "output_type": "stream",
          "name": "stdout",
          "text": [
            "Dataset({\n",
            "    features: ['text'],\n",
            "    num_rows: 99\n",
            "})\n"
          ]
        }
      ]
    },
    {
      "cell_type": "markdown",
      "source": [
        "### Entrenamiento del Modelo"
      ],
      "metadata": {
        "id": "wHkYHivPkSyh"
      }
    },
    {
      "cell_type": "code",
      "source": [
        "from trl import SFTTrainer, SFTConfig\n",
        "\n",
        "peft_trainer = SFTTrainer(\n",
        "    model=peft_model,\n",
        "    train_dataset=dataset,\n",
        "    peft_config=peft_config,\n",
        "    max_seq_length=max_seq_length,\n",
        "    tokenizer=tokenizer,\n",
        "    args=training_args,\n",
        "    formatting_func=format_function)\n",
        "\n",
        "peft_trainer.train()\n",
        "peft_trainer.model.save_pretrained('fine-tuning_Zephyr-7b2')"
      ],
      "metadata": {
        "colab": {
          "base_uri": "https://localhost:8080/",
          "height": 876,
          "referenced_widgets": [
            "53ec1b3076024f3cb821a1b53a09ca01",
            "d83fad94f9d0411194cb08205fb14eb0",
            "62eafa0cdb88421c9598b60287e5dd89",
            "01198c3872544959ac3383a7a10159bd",
            "75e80ca954394f38b6a0df9546878953",
            "4ab04749be6e4ad896a42805eb188670",
            "475952113fe2426c97e3eada24ecf6e3",
            "a91d2197fe2b42f2a9f89f943c89a952",
            "7b9973b416e447d4a411750cb474c3d7",
            "278514af2c5a47c49147413b72dbdc15",
            "def3fba0da0a49ae80a4b27300af8d80"
          ]
        },
        "id": "bxtbg3_2kNam",
        "outputId": "3db7b5c4-3792-415d-a3d7-7c9141c785cc"
      },
      "execution_count": null,
      "outputs": [
        {
          "output_type": "stream",
          "name": "stderr",
          "text": [
            "/usr/local/lib/python3.10/dist-packages/huggingface_hub/utils/_deprecation.py:100: FutureWarning: Deprecated argument(s) used in '__init__': max_seq_length. Will not be supported from version '1.0.0'.\n",
            "\n",
            "Deprecated positional argument(s) used in SFTTrainer, please use the SFTConfig to set these arguments instead.\n",
            "  warnings.warn(message, FutureWarning)\n",
            "/usr/local/lib/python3.10/dist-packages/transformers/training_args.py:1965: FutureWarning: `--push_to_hub_token` is deprecated and will be removed in version 5 of 🤗 Transformers. Use `--hub_token` instead.\n",
            "  warnings.warn(\n",
            "/usr/local/lib/python3.10/dist-packages/trl/trainer/sft_trainer.py:269: UserWarning: You passed a `max_seq_length` argument to the SFTTrainer, the value you passed will override the one in the `SFTConfig`.\n",
            "  warnings.warn(\n"
          ]
        },
        {
          "output_type": "display_data",
          "data": {
            "text/plain": [
              "Map:   0%|          | 0/99 [00:00<?, ? examples/s]"
            ],
            "application/vnd.jupyter.widget-view+json": {
              "version_major": 2,
              "version_minor": 0,
              "model_id": "53ec1b3076024f3cb821a1b53a09ca01"
            }
          },
          "metadata": {}
        },
        {
          "output_type": "stream",
          "name": "stderr",
          "text": [
            "/usr/local/lib/python3.10/dist-packages/trl/trainer/sft_trainer.py:397: UserWarning: You passed a tokenizer with `padding_side` not equal to `right` to the SFTTrainer. This might lead to some unexpected behaviour due to overflow issues when training a model in half-precision. You might consider adding `tokenizer.padding_side = 'right'` to your code.\n",
            "  warnings.warn(\n",
            "max_steps is given, it will override any value given in num_train_epochs\n",
            "`use_cache=True` is incompatible with gradient checkpointing. Setting `use_cache=False`...\n",
            "/usr/local/lib/python3.10/dist-packages/torch/utils/checkpoint.py:464: UserWarning: torch.utils.checkpoint: the use_reentrant parameter should be passed explicitly. In version 2.4 we will raise an exception if use_reentrant is not passed. use_reentrant=False is recommended, but if you need to preserve the current default behavior, you can pass use_reentrant=True. Refer to docs for more details on the differences between the two variants.\n",
            "  warnings.warn(\n"
          ]
        },
        {
          "output_type": "display_data",
          "data": {
            "text/plain": [
              "<IPython.core.display.HTML object>"
            ],
            "text/html": [
              "\n",
              "    <div>\n",
              "      \n",
              "      <progress value='150' max='150' style='width:300px; height:20px; vertical-align: middle;'></progress>\n",
              "      [150/150 1:08:58, Epoch 46/50]\n",
              "    </div>\n",
              "    <table border=\"1\" class=\"dataframe\">\n",
              "  <thead>\n",
              " <tr style=\"text-align: left;\">\n",
              "      <th>Step</th>\n",
              "      <th>Training Loss</th>\n",
              "    </tr>\n",
              "  </thead>\n",
              "  <tbody>\n",
              "    <tr>\n",
              "      <td>10</td>\n",
              "      <td>1.227600</td>\n",
              "    </tr>\n",
              "    <tr>\n",
              "      <td>20</td>\n",
              "      <td>1.081000</td>\n",
              "    </tr>\n",
              "    <tr>\n",
              "      <td>30</td>\n",
              "      <td>0.890900</td>\n",
              "    </tr>\n",
              "    <tr>\n",
              "      <td>40</td>\n",
              "      <td>0.745900</td>\n",
              "    </tr>\n",
              "    <tr>\n",
              "      <td>50</td>\n",
              "      <td>0.588600</td>\n",
              "    </tr>\n",
              "    <tr>\n",
              "      <td>60</td>\n",
              "      <td>0.423800</td>\n",
              "    </tr>\n",
              "    <tr>\n",
              "      <td>70</td>\n",
              "      <td>0.292200</td>\n",
              "    </tr>\n",
              "    <tr>\n",
              "      <td>80</td>\n",
              "      <td>0.202000</td>\n",
              "    </tr>\n",
              "    <tr>\n",
              "      <td>90</td>\n",
              "      <td>0.153700</td>\n",
              "    </tr>\n",
              "    <tr>\n",
              "      <td>100</td>\n",
              "      <td>0.131900</td>\n",
              "    </tr>\n",
              "    <tr>\n",
              "      <td>110</td>\n",
              "      <td>0.122200</td>\n",
              "    </tr>\n",
              "    <tr>\n",
              "      <td>120</td>\n",
              "      <td>0.117900</td>\n",
              "    </tr>\n",
              "    <tr>\n",
              "      <td>130</td>\n",
              "      <td>0.115500</td>\n",
              "    </tr>\n",
              "    <tr>\n",
              "      <td>140</td>\n",
              "      <td>0.113000</td>\n",
              "    </tr>\n",
              "    <tr>\n",
              "      <td>150</td>\n",
              "      <td>0.112200</td>\n",
              "    </tr>\n",
              "  </tbody>\n",
              "</table><p>"
            ]
          },
          "metadata": {}
        },
        {
          "output_type": "stream",
          "name": "stderr",
          "text": [
            "/usr/local/lib/python3.10/dist-packages/huggingface_hub/file_download.py:1132: FutureWarning: `resume_download` is deprecated and will be removed in version 1.0.0. Downloads always resume when possible. If you want to force a new download, use `force_download=True`.\n",
            "  warnings.warn(\n"
          ]
        }
      ]
    },
    {
      "cell_type": "code",
      "source": [
        "import pandas as pd\n",
        "print(peft_trainer.state.log_history)"
      ],
      "metadata": {
        "colab": {
          "base_uri": "https://localhost:8080/"
        },
        "id": "i4ll0nLi4TxR",
        "outputId": "e6f17b90-8edc-4819-efaa-aaa60710c8c1"
      },
      "execution_count": null,
      "outputs": [
        {
          "output_type": "stream",
          "name": "stdout",
          "text": [
            "[{'loss': 1.2276, 'grad_norm': 0.9287158250808716, 'learning_rate': 2.2222222222222223e-05, 'epoch': 3.076923076923077, 'step': 10}, {'loss': 1.081, 'grad_norm': 1.0609898567199707, 'learning_rate': 4.4444444444444447e-05, 'epoch': 6.153846153846154, 'step': 20}, {'loss': 0.8909, 'grad_norm': 0.4691069722175598, 'learning_rate': 6.666666666666667e-05, 'epoch': 9.23076923076923, 'step': 30}, {'loss': 0.7459, 'grad_norm': 0.4529132843017578, 'learning_rate': 8.888888888888889e-05, 'epoch': 12.307692307692308, 'step': 40}, {'loss': 0.5886, 'grad_norm': 0.5130980014801025, 'learning_rate': 9.523809523809524e-05, 'epoch': 15.384615384615385, 'step': 50}, {'loss': 0.4238, 'grad_norm': 0.6761297583580017, 'learning_rate': 8.571428571428571e-05, 'epoch': 18.46153846153846, 'step': 60}, {'loss': 0.2922, 'grad_norm': 0.9269594550132751, 'learning_rate': 7.619047619047618e-05, 'epoch': 21.53846153846154, 'step': 70}, {'loss': 0.202, 'grad_norm': 0.6547591090202332, 'learning_rate': 6.666666666666667e-05, 'epoch': 24.615384615384617, 'step': 80}, {'loss': 0.1537, 'grad_norm': 0.4360446333885193, 'learning_rate': 5.714285714285714e-05, 'epoch': 27.692307692307693, 'step': 90}, {'loss': 0.1319, 'grad_norm': 0.5808584690093994, 'learning_rate': 4.761904761904762e-05, 'epoch': 30.76923076923077, 'step': 100}, {'loss': 0.1222, 'grad_norm': 0.2921239137649536, 'learning_rate': 3.809523809523809e-05, 'epoch': 33.84615384615385, 'step': 110}, {'loss': 0.1179, 'grad_norm': 0.5019166469573975, 'learning_rate': 2.857142857142857e-05, 'epoch': 36.92307692307692, 'step': 120}, {'loss': 0.1155, 'grad_norm': 0.3282000720500946, 'learning_rate': 1.9047619047619046e-05, 'epoch': 40.0, 'step': 130}, {'loss': 0.113, 'grad_norm': 0.284757137298584, 'learning_rate': 9.523809523809523e-06, 'epoch': 43.07692307692308, 'step': 140}, {'loss': 0.1122, 'grad_norm': 0.25676172971725464, 'learning_rate': 0.0, 'epoch': 46.15384615384615, 'step': 150}, {'train_runtime': 4169.3469, 'train_samples_per_second': 1.151, 'train_steps_per_second': 0.036, 'total_flos': 5.493848105995469e+16, 'train_loss': 0.4212329943974813, 'epoch': 46.15384615384615, 'step': 150}]\n"
          ]
        }
      ]
    },
    {
      "cell_type": "code",
      "source": [
        "df_history = pd.DataFrame(peft_trainer.state.log_history)\n",
        "df_history.plot(x='step', y='loss', figsize=(12, 8))"
      ],
      "metadata": {
        "colab": {
          "base_uri": "https://localhost:8080/",
          "height": 713
        },
        "id": "nmXUbrpn4YRx",
        "outputId": "df9138fc-a5bc-42e6-97c8-b677a36f51b0"
      },
      "execution_count": null,
      "outputs": [
        {
          "output_type": "execute_result",
          "data": {
            "text/plain": [
              "<Axes: xlabel='step'>"
            ]
          },
          "metadata": {},
          "execution_count": 20
        },
        {
          "output_type": "display_data",
          "data": {
            "text/plain": [
              "<Figure size 1200x800 with 1 Axes>"
            ],
            "image/png": "[encoded data removed]"
          },
          "metadata": {}
        }
      ]
    },
    {
      "cell_type": "code",
      "source": [
        "chat = [\n",
        "    {\"role\": \"system\",\n",
        "     \"content\": \"Eres un paciente que describe tus síntomas a un doctor. Responde detalladamente a las preguntas del doctor sobre tu condición.\"},\n",
        "    {\"role\": \"user\", \"content\": \"Cuentame sobre tu problema?\"}\n",
        "]\n",
        "\n",
        "tokenized_chat = tokenizer.apply_chat_template(chat, tokenize=True, add_generation_prompt=False, return_tensors=\"pt\")\n",
        "outputs = peft_model.generate(tokenized_chat.to('cuda'), max_new_tokens=128)\n",
        "tokenizer.decode(outputs[0])"
      ],
      "metadata": {
        "colab": {
          "base_uri": "https://localhost:8080/",
          "height": 177
        },
        "id": "yF6W6AmR3NF3",
        "outputId": "4f514a3a-ccf1-4920-890c-22719c44e172"
      },
      "execution_count": null,
      "outputs": [
        {
          "output_type": "stream",
          "name": "stderr",
          "text": [
            "The attention mask and the pad token id were not set. As a consequence, you may observe unexpected behavior. Please pass your input's `attention_mask` to obtain reliable results.\n",
            "Setting `pad_token_id` to `eos_token_id`:2 for open-end generation.\n",
            "/usr/local/lib/python3.10/dist-packages/torch/utils/checkpoint.py:91: UserWarning: None of the inputs have requires_grad=True. Gradients will be None\n",
            "  warnings.warn(\n"
          ]
        },
        {
          "output_type": "execute_result",
          "data": {
            "text/plain": [
              "'<|user|>\\n¿Qué es la fotosíntesis?</s> \\n<|assistant|> La fotosíntesis es el proceso mediante el cual las plantas, las algas y algunas bacterias convierten la luz solar en energía química. Este proceso se lleva a cabo en los cloroplastos de las células vegetales, donde la clorofila absorbe la luz solar. Durante la fotosíntesis, los dióxido de carbono y el agua se transforman en glucosa y oxígeno. La ecuación general del proceso es: dióxido'"
            ],
            "application/vnd.google.colaboratory.intrinsic+json": {
              "type": "string"
            }
          },
          "metadata": {},
          "execution_count": 35
        }
      ]
    },
    {
      "cell_type": "markdown",
      "source": [
        "### Inferencia"
      ],
      "metadata": {
        "id": "8Zb-sK1P5qv9"
      }
    },
    {
      "cell_type": "code",
      "source": [
        "preguntas = [\n",
        "    # 5 preguntas de primaria\n",
        "    \"¿Qué es la fotosíntesis?\",\n",
        "    \"¿Qué es el aparato digestivo?\",\n",
        "    \"¿Qué es la electricidad estática?\",\n",
        "    \"Explícame cómo funciona el ciclo del agua.\",\n",
        "    \"Explícame la teoría de la evolución.\",\n",
        "    # 5 preguntas de secundaria\n",
        "    \"¿Qué fue la Revolución Francesa?\",\n",
        "    \"Explícame las leyes de Newton.\",\n",
        "    \"Explícame el ciclo del carbono.\",\n",
        "    \"Explícame la teoría atómica.\",\n",
        "    \"¿Qué es el imperialismo?\"\n",
        "\n",
        "]"
      ],
      "metadata": {
        "id": "5t9dk8-C56KU"
      },
      "execution_count": null,
      "outputs": []
    },
    {
      "cell_type": "code",
      "source": [
        "archivo_salida2 = \"preguntas_respuestas_FT2.txt\"\n",
        "\n",
        "# Abrir el archivo en modo escritura\n",
        "with open(archivo_salida2, 'w') as archivo:\n",
        "    # Iterar sobre cada pregunta\n",
        "    for pregunta in preguntas:\n",
        "\n",
        "        messages = [{\"role\": \"user\", \"content\": pregunta}]\n",
        "        tokenized_chat = tokenizer.apply_chat_template(messages, tokenize=True, add_generation_prompt=False, return_tensors=\"pt\")\n",
        "        outputs = peft_model.generate(tokenized_chat.to('cuda'), max_new_tokens=500)\n",
        "\n",
        "        respuesta = tokenizer.decode(outputs[0])\n",
        "\n",
        "        print(\"Pregunta: \", pregunta)\n",
        "        print(\"Respuesta: \", respuesta)\n",
        "        print()\n",
        "\n",
        "        # Escribir la pregunta y la respuesta en el archivo\n",
        "        archivo.write(f\"Pregunta: {pregunta}\\n\")\n",
        "        archivo.write(f\"Respuesta: {respuesta}\\n\\n\")\n",
        "\n",
        "print(\"Preguntas y respuestas guardadas en\", archivo_salida2)"
      ],
      "metadata": {
        "colab": {
          "base_uri": "https://localhost:8080/"
        },
        "id": "p1VWGn644tOf",
        "outputId": "08949838-3458-4cb4-813f-e3fde5d57562"
      },
      "execution_count": null,
      "outputs": [
        {
          "output_type": "stream",
          "name": "stderr",
          "text": [
            "The attention mask and the pad token id were not set. As a consequence, you may observe unexpected behavior. Please pass your input's `attention_mask` to obtain reliable results.\n",
            "Setting `pad_token_id` to `eos_token_id`:2 for open-end generation.\n",
            "/usr/local/lib/python3.10/dist-packages/torch/utils/checkpoint.py:464: UserWarning: torch.utils.checkpoint: the use_reentrant parameter should be passed explicitly. In version 2.4 we will raise an exception if use_reentrant is not passed. use_reentrant=False is recommended, but if you need to preserve the current default behavior, you can pass use_reentrant=True. Refer to docs for more details on the differences between the two variants.\n",
            "  warnings.warn(\n",
            "/usr/local/lib/python3.10/dist-packages/torch/utils/checkpoint.py:91: UserWarning: None of the inputs have requires_grad=True. Gradients will be None\n",
            "  warnings.warn(\n",
            "The attention mask and the pad token id were not set. As a consequence, you may observe unexpected behavior. Please pass your input's `attention_mask` to obtain reliable results.\n",
            "Setting `pad_token_id` to `eos_token_id`:2 for open-end generation.\n"
          ]
        },
        {
          "output_type": "stream",
          "name": "stdout",
          "text": [
            "Pregunta:  ¿Qué es la fotosíntesis?\n",
            "Respuesta:  <|user|>\n",
            "¿Qué es la fotosíntesis?</s> \n",
            "<|assistant|> La fotosíntesis es el proceso por el cual las plantas, algas y algunas bacterias convierten la luz solar en energía química. Este proceso se lleva a cabo en los cloroplastos de las células vegetales, donde la clorofila absorbe la luz solar. Durante la fotosíntesis, las plantas toman dióxido de carbono del aire y agua del suelo, y utilizan la energía solar para convertir estos componentes en glucosa (un tipo de azúcar) y oxígeno. La ecuación química del proceso es: $6CO2+6H2O+luz\\ rightarrow C6H12O6+6O2$. La glucosa es utilizada por la planta como fuente de energía y para crecer, mientras que el oxígeno es liberado al aire. La fotosíntesis es fundamental para la vida en la Tierra, ya que proporciona oxígeno al aire y es la base de la cadena alimentaria.</s>\n",
            "\n"
          ]
        },
        {
          "output_type": "stream",
          "name": "stderr",
          "text": [
            "The attention mask and the pad token id were not set. As a consequence, you may observe unexpected behavior. Please pass your input's `attention_mask` to obtain reliable results.\n",
            "Setting `pad_token_id` to `eos_token_id`:2 for open-end generation.\n"
          ]
        },
        {
          "output_type": "stream",
          "name": "stdout",
          "text": [
            "Pregunta:  ¿Qué es el aparato digestivo?\n",
            "Respuesta:  <|user|>\n",
            "¿Qué es el aparato digestivo?</s> \n",
            "<|assistant|> El aparato digestivo es una de las sistemas del cuerpo humano que está encargado de descomponer los alimentos, absorber los nutrientes y eliminar los desechos. Este proceso comienza en la boca, donde los alimentos entran a la boca de estómago, que mezcla y rompe los alimentos con jugos digestivos. Luego, el quimo estomacal viaja al intestino delgado, donde la mayoría de los nutrientes se absorben a través de las paredes intestinales. El resto de los desechos se movien hacia el intestino grueso, donde se absorbe agua y forman las heces, que son eliminadas por el recto y el ano. El aparato digestivo es esencial para la nutrición y la eliminación de los restos indigestos.</s>\n",
            "\n"
          ]
        },
        {
          "output_type": "stream",
          "name": "stderr",
          "text": [
            "The attention mask and the pad token id were not set. As a consequence, you may observe unexpected behavior. Please pass your input's `attention_mask` to obtain reliable results.\n",
            "Setting `pad_token_id` to `eos_token_id`:2 for open-end generation.\n"
          ]
        },
        {
          "output_type": "stream",
          "name": "stdout",
          "text": [
            "Pregunta:  ¿Qué es la electricidad estática?\n",
            "Respuesta:  <|user|>\n",
            "¿Qué es la electricidad estática?</s> \n",
            "<|assistant|> La electricidad estática es una acumulación de carga eléctrica en la superficie de un objeto, que ocurre cuando hay un desequilibrio entre las cargas positivas y negativas. Este fenómeno se produce generalmente por fricción, como cuando se frota un globo contra el cabello, lo que hace que las cargas se transfieran y dejen a su objeto original con una carga acumulada. La electricidad estática puede causar chispas y pequeños choques eléctricos cuando las cargas se equilibran repentinamente. Es un efecto común en el ambiente natural y industrial, que puede ser problemático en ciertos contextos, como en industrias que manejan materiales sensibles a la electricidad, o en ambientes secos o con baja humedad, que favorecen la acumulación de carga.</s>\n",
            "\n"
          ]
        },
        {
          "output_type": "stream",
          "name": "stderr",
          "text": [
            "The attention mask and the pad token id were not set. As a consequence, you may observe unexpected behavior. Please pass your input's `attention_mask` to obtain reliable results.\n",
            "Setting `pad_token_id` to `eos_token_id`:2 for open-end generation.\n"
          ]
        },
        {
          "output_type": "stream",
          "name": "stdout",
          "text": [
            "Pregunta:  Explícame cómo funciona el ciclo del agua.\n",
            "Respuesta:  <|user|>\n",
            "Explícame cómo funciona el ciclo del agua.</s> \n",
            "<|assistant|> El ciclo del agua es el proceso continuo mediante el cual el agua se mueve a través de la Tierra y la atmósfera. Este ciclo incluye varios procesos: (1) Evaporación: el agua en mar, ríos, lagos y terrenos húmedos se convierte en vapor de agua que asciende en la atmósfera. (2) Condensación: el vapor de agua se enfría y se condensa formando nubes. (3) Precipitación: el agua cae de las nubes como lluvia, nieve, granizo o borrar y vuelve a el océano mediante ríos y arroyos o se infiltra en el suelo. Este ciclo es esencial para la distribución del agua dulce, el clima y la vida en la Tierra.</s>\n",
            "\n"
          ]
        },
        {
          "output_type": "stream",
          "name": "stderr",
          "text": [
            "The attention mask and the pad token id were not set. As a consequence, you may observe unexpected behavior. Please pass your input's `attention_mask` to obtain reliable results.\n",
            "Setting `pad_token_id` to `eos_token_id`:2 for open-end generation.\n"
          ]
        },
        {
          "output_type": "stream",
          "name": "stdout",
          "text": [
            "Pregunta:  Explícame la teoría de la evolución.\n",
            "Respuesta:  <|user|>\n",
            "Explícame la teoría de la evolución.</s> \n",
            "<|assistant|> La teoría de la evolución, propuesta por Charles Darwin, explica cómo las especies se han cambiado y adaptado a lo largo del tiempo. Según esta teoría, las poblaciones de organismos tienen variaciones genéticas que pueden dar lugar a individuos más o menos adaptados a su entorno. En condiciones favorables, los individuos adaptados tienen más probabilidades de sobrevivir y reproducirse, pasando sus características adaptativas a la siguiente generación. Este proceso se conoce como selección natural. A lo largo de generaciones, estas selecciones repetidas pueden llevar a la formación de nuevas especies y el envejecimiento de otras. La evolución también se debe a mutaciones genéticas y la movilidad geográfica. La teoría de la evolución está respaldada por una vasta cantidad de evidencias provenientes de la biología, la paleontología, la genética y otras disciplinas científicas.</s>\n",
            "\n"
          ]
        },
        {
          "output_type": "stream",
          "name": "stderr",
          "text": [
            "The attention mask and the pad token id were not set. As a consequence, you may observe unexpected behavior. Please pass your input's `attention_mask` to obtain reliable results.\n",
            "Setting `pad_token_id` to `eos_token_id`:2 for open-end generation.\n"
          ]
        },
        {
          "output_type": "stream",
          "name": "stdout",
          "text": [
            "Pregunta:  ¿Qué fue la Revolución Francesa?\n",
            "Respuesta:  <|user|>\n",
            "¿Qué fue la Revolución Francesa?</s> \n",
            "<|assistant|> La Revolución Francesa fue un período de intenso cambio social y político en Francia que duró desde 1789 hasta 1799. Comenzó con la crisis financiera del reino y la creciente oposición de los nobles y el clero, que llevó a la convocatoria de los Estados Generales, donde por primera vez todos los delegados eran elegibles. Bajo la influencia de ideas liberal y democráticas, la asamblea se transformó en la Asamblea Nacional, que elaboró la Declaración de los Derechos del Hombre y del Cíudadano. La Revolución se caracterizó por la abolición de los privilegios feudales, la confiscación de la Iglesia católica y la redistribución de sus tierras, y la creación de un estado laico. Finalmente, el asesinato de Luis XVI y la proclamación de la Primera República francesa en 1792 marcaron eventos clave de este período histórico. La Revolución Francesa tuvo un impacto profundo en la historia de Francia y del mundo, promoviendo ideales de libertad, igualdad y fraternidad.</s>\n",
            "\n"
          ]
        },
        {
          "output_type": "stream",
          "name": "stderr",
          "text": [
            "The attention mask and the pad token id were not set. As a consequence, you may observe unexpected behavior. Please pass your input's `attention_mask` to obtain reliable results.\n",
            "Setting `pad_token_id` to `eos_token_id`:2 for open-end generation.\n"
          ]
        },
        {
          "output_type": "stream",
          "name": "stdout",
          "text": [
            "Pregunta:  Explícame las leyes de Newton.\n",
            "Respuesta:  <|user|>\n",
            "Explícame las leyes de Newton.</s> \n",
            "<|assistant|> Las leyes de Newton son principios fundamentales de la mecánica que describen el comportamiento de los objetos en movimiento. Son:\n",
            "\n",
            "1. Primera ley (Ley de inercia): Un objeto en reposo permanecerá en reposo y un objeto en movimiento continuará en movimiento con velocidad constante a menos que es push or pull cambie. Este principio indica que un objeto está en movimiento o en reposo debido a una fuerza aplicada, y si se quita la fuerza, el objeto mantendrá su movimiento o estado de reposo.\n",
            "\n",
            "2. Segunda ley (Ley de la fuerza y movimiento): La aceleración de un objeto es directamente proporcional a la fuerza neta actuando sobre él y inversamente proporcional a su masa. F=ma. Esta ley establece la relación entre la fuerza, la masa y la aceleración de un objeto, y indica que la aceleración aumenta cuanto más pequeña es la masa y cuanto más pequeña es la fuerza neta.\n",
            "\n",
            "3. Tercera ley (Ley de acción y reacción): Para cada acción hay una reacción igual y opuesta. Este principio se aplica a las fuerzas, donde si dos objetos interaccionan, hay una fuerza \"de acción\" y una fuerza \"de reacción\" que actúan en las direcciones opuestas.</s>\n",
            "\n"
          ]
        },
        {
          "output_type": "stream",
          "name": "stderr",
          "text": [
            "The attention mask and the pad token id were not set. As a consequence, you may observe unexpected behavior. Please pass your input's `attention_mask` to obtain reliable results.\n",
            "Setting `pad_token_id` to `eos_token_id`:2 for open-end generation.\n"
          ]
        },
        {
          "output_type": "stream",
          "name": "stdout",
          "text": [
            "Pregunta:  Explícame el ciclo del carbono.\n",
            "Respuesta:  <|user|>\n",
            "Explícame el ciclo del carbono.</s> \n",
            "<|assistant|> El ciclo del carbono es el proceso mediante el cual el carbono se mueve a través de la atmósfera, la hidrosfera, la geosfera y la biosfera. Este ciclo es esencial para la vida en la Tierra y tiene varios componentes: la fotosíntesis, que convierte el dióxido de carbono en materia orgánica; la respiración, que devuelve el carbono a la atmósfera; la descomposición, que libera carbono de los organismos muertos; y la sedimentación, que almacena carbono en rocas y sedimentos. Las actividades humanas, como la quema de combustibles fósiles y la deforestación, han alterado el ciclo natural del carbono, contribuyendo al cambio climático. El ciclo del carbono es crucial para entender el funcionamiento del sistema global y las manera en las que el carbono se mueve y se acumula en la Tierra.</s>\n",
            "\n"
          ]
        },
        {
          "output_type": "stream",
          "name": "stderr",
          "text": [
            "The attention mask and the pad token id were not set. As a consequence, you may observe unexpected behavior. Please pass your input's `attention_mask` to obtain reliable results.\n",
            "Setting `pad_token_id` to `eos_token_id`:2 for open-end generation.\n"
          ]
        },
        {
          "output_type": "stream",
          "name": "stdout",
          "text": [
            "Pregunta:  Explícame la teoría atómica.\n",
            "Respuesta:  <|user|>\n",
            "Explícame la teoría atómica.</s> \n",
            "<|assistant|>La teoría atómica es la idea científica de que la materia está compuesta de unidades fundamentales llamadas átomos. Estos átomos están formados por un núcleo central que contiene protones y neutrones, y una capa de electrones que orbitan alrededor del núcleo. Los átomos son la unidad básica de la materia y se combinan para formar moléculas y compuestos. La teoría atómica moderna se basa en el modelo cuántico, que describe las órbitas electrónicas en términos de probabilidades en lugar de órbitas definidas. Esta teoría explica la estructura y el comportamiento de la materia a nivel microscópico y es fundamental para la química y la física moderna.</s>\n",
            "\n",
            "Pregunta:  ¿Qué es el imperialismo?\n",
            "Respuesta:  <|user|>\n",
            "¿Qué es el imperialismo?</s> \n",
            "<|assistant|> El imperialismo es una política o ideología en la que un país extiende su control y dominio sobre otros territorios, generalmente mediante la fuerza militar, la anexión o el acuerdo. Este término se utiliza especialmente para describir la expansión colonial de las potencias europeas durante el siglo XIX y principios del XX, cuando se dividió el mundo entre sus colonias. El imperialismo a menudo se justificaba con ideas de superioridad racial y cultural, pero también tenía objetivos económicos, como el acceso a recursos naturales y mercados. La explotación colonial tuvo duraderos efectos socioeconómicos y culturales en los países colonizados, a menudo causando daño a las comunidades locales y a su patrimonio.</s>\n",
            "\n",
            "Preguntas y respuestas guardadas en preguntas_respuestas_FT2.txt\n"
          ]
        }
      ]
    },
    {
      "cell_type": "code",
      "source": [
        "from huggingface_hub import notebook_login\n",
        "notebook_login()"
      ],
      "metadata": {
        "colab": {
          "base_uri": "https://localhost:8080/",
          "height": 145,
          "referenced_widgets": [
            "5f6746408db643faba771a4103375ee9",
            "432f42e4a7e34d2bafbcf89e258e944a",
            "1d5562d2ce044976af3459f6346808da",
            "1b1559f7ca3e4b34b18469b0c92efe60",
            "00e70a6dbffe4af8b1a11962923a8532",
            "98e3a27baf7e460a9ab58a09e4930449",
            "c1a0c7eb71c34324ab5f0555743dc5d1",
            "1b4495f7eb54495db2d10caac408b9d0",
            "60502b6dda7f41029f829d13bcc0cf40",
            "98beb8832b18400cb25a8c0506c8e37d",
            "60a8ebcd13ea42febaca5abe7c20cabd",
            "d343d85afb5b44e4ab565f441661911d",
            "5e230ad1d25c4d37a0958541050fade6",
            "c1d7db8595a94dd8a36f334e8f9c9a5c",
            "9ce1544a87c84836be95ae12c31aceef",
            "3dfd6f34949e4662a13d8f2abd438325",
            "81c0bcc0709c4e93a12dc61f77522cae",
            "1f06d844184c4d1b940d07bf54b24c6a",
            "4bb6d96d6e8441df9075730025c81678",
            "3a573a716f1640d583091561fc0d512e",
            "aab6810a72cb46e4b7ebdc7084ab3e89",
            "ddaf24a95566477ca4f12b412b764067",
            "b9bd38e12ded4c3b8fd9d5a7c5464e65",
            "7b0b8e8dda894319bb1de8568dcc6c63",
            "d64845cdd6c740489118ddcd8d8b47c9",
            "0ae012e96b2344de9122db5d4cf4439a",
            "40359e4314304c82bfb400a34ddae8e5",
            "2636b2995db0443c8c7d9921e102eaf7",
            "0221483aca49494ba49071445f64e04a",
            "9e7d64be1c2742f9b108c4a50d2c4965",
            "386adfadfaa94d3fb98028a3a4d4926a",
            "c9d1e6f7766641ddabaee6dc4893212a"
          ]
        },
        "id": "Nb8Lmv1bESL6",
        "outputId": "f7709fb5-5d70-4a57-ffb3-0066d6310c7d"
      },
      "execution_count": null,
      "outputs": [
        {
          "output_type": "display_data",
          "data": {
            "text/plain": [
              "VBox(children=(HTML(value='<center> <img\\nsrc=https://huggingface.co/front/assets/huggingface_logo-noborder.sv…"
            ],
            "application/vnd.jupyter.widget-view+json": {
              "version_major": 2,
              "version_minor": 0,
              "model_id": "5f6746408db643faba771a4103375ee9"
            }
          },
          "metadata": {}
        }
      ]
    },
    {
      "cell_type": "code",
      "source": [
        "peft_trainer.model.push_to_hub(\"fine-tuning_Zephyr-7b_SpanishQA\")"
      ],
      "metadata": {
        "colab": {
          "base_uri": "https://localhost:8080/",
          "height": 138,
          "referenced_widgets": [
            "aa447f79f2a2412ead7b29e1d0bc0e72",
            "cb4fa1b39bac4a4aaa7b86fc6f287c4d",
            "701f0c7df0644203ade73a8a36cce175",
            "8780e6ad0dbd499e9891cf8f29b8daff",
            "79355faeed5843fa87e68b1b0d4bc7c1",
            "e5d056e5ab8a4bfb9f66da29218fe48a",
            "95cc51afde9546869b6c89a905fc2af7",
            "c82f08c06b3d499394d90e975808ecd7",
            "6d0c9c7b3b31466f8e38581c0a6b2ae2",
            "45d952cba7ca4e5fa65f2152d58db7be",
            "d8861dfbea414d6387f66a614de024e3"
          ]
        },
        "id": "hlqlTkTfDsd4",
        "outputId": "d337da1f-eadf-410c-9ff9-e0d59769c676"
      },
      "execution_count": null,
      "outputs": [
        {
          "output_type": "stream",
          "name": "stderr",
          "text": [
            "/usr/local/lib/python3.10/dist-packages/huggingface_hub/file_download.py:1132: FutureWarning: `resume_download` is deprecated and will be removed in version 1.0.0. Downloads always resume when possible. If you want to force a new download, use `force_download=True`.\n",
            "  warnings.warn(\n"
          ]
        },
        {
          "output_type": "display_data",
          "data": {
            "text/plain": [
              "adapter_model.safetensors:   0%|          | 0.00/109M [00:00<?, ?B/s]"
            ],
            "application/vnd.jupyter.widget-view+json": {
              "version_major": 2,
              "version_minor": 0,
              "model_id": "aa447f79f2a2412ead7b29e1d0bc0e72"
            }
          },
          "metadata": {}
        },
        {
          "output_type": "execute_result",
          "data": {
            "text/plain": [
              "CommitInfo(commit_url='https://huggingface.co/alivi/fine-tuning_Zephyr-7b_SpanishQA/commit/a3d67592b623251ceffec690883193a735ec1802', commit_message='Upload model', commit_description='', oid='a3d67592b623251ceffec690883193a735ec1802', pr_url=None, pr_revision=None, pr_num=None)"
            ],
            "application/vnd.google.colaboratory.intrinsic+json": {
              "type": "string"
            }
          },
          "metadata": {},
          "execution_count": 23
        }
      ]
    },
    {
      "cell_type": "code",
      "source": [],
      "metadata": {
        "colab": {
          "base_uri": "https://localhost:8080/",
          "height": 17
        },
        "id": "LwO_X4NfHjsB",
        "outputId": "f5f31ba9-53c2-42aa-d02d-7e92776ac078"
      },
      "execution_count": null,
      "outputs": [
        {
          "output_type": "display_data",
          "data": {
            "text/plain": [
              "<IPython.core.display.Javascript object>"
            ],
            "application/javascript": [
              "\n",
              "    async function download(id, filename, size) {\n",
              "      if (!google.colab.kernel.accessAllowed) {\n",
              "        return;\n",
              "      }\n",
              "      const div = document.createElement('div');\n",
              "      const label = document.createElement('label');\n",
              "      label.textContent = `Downloading \"${filename}\": `;\n",
              "      div.appendChild(label);\n",
              "      const progress = document.createElement('progress');\n",
              "      progress.max = size;\n",
              "      div.appendChild(progress);\n",
              "      document.body.appendChild(div);\n",
              "\n",
              "      const buffers = [];\n",
              "      let downloaded = 0;\n",
              "\n",
              "      const channel = await google.colab.kernel.comms.open(id);\n",
              "      // Send a message to notify the kernel that we're ready.\n",
              "      channel.send({})\n",
              "\n",
              "      for await (const message of channel.messages) {\n",
              "        // Send a message to notify the kernel that we're ready.\n",
              "        channel.send({})\n",
              "        if (message.buffers) {\n",
              "          for (const buffer of message.buffers) {\n",
              "            buffers.push(buffer);\n",
              "            downloaded += buffer.byteLength;\n",
              "            progress.value = downloaded;\n",
              "          }\n",
              "        }\n",
              "      }\n",
              "      const blob = new Blob(buffers, {type: 'application/binary'});\n",
              "      const a = document.createElement('a');\n",
              "      a.href = window.URL.createObjectURL(blob);\n",
              "      a.download = filename;\n",
              "      div.appendChild(a);\n",
              "      a.click();\n",
              "      div.remove();\n",
              "    }\n",
              "  "
            ]
          },
          "metadata": {}
        },
        {
          "output_type": "display_data",
          "data": {
            "text/plain": [
              "<IPython.core.display.Javascript object>"
            ],
            "application/javascript": [
              "download(\"download_fe965ecd-db7c-41b2-9b42-a81007d78590\", \"fine-tuning_Zephyr-7b.zip\", 101606977)"
            ]
          },
          "metadata": {}
        }
      ]
    },
    {
      "cell_type": "code",
      "source": [
        "python llama.cpp/convert-hf-to-gguf-update.py zephyr_FT-hf \\\n",
        "  --outfile zephyr-7b-ft.gguf \\\n",
        "  --outtype q8_0"
      ],
      "metadata": {
        "id": "gDP3WB8adML3"
      },
      "execution_count": null,
      "outputs": []
    }
  ]
}